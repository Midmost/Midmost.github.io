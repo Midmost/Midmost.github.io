{
  "nbformat": 4,
  "nbformat_minor": 0,
  "metadata": {
    "colab": {
      "name": "(답)선형대수 2주차 시험.ipynb",
      "private_outputs": true,
      "provenance": [],
      "collapsed_sections": [],
      "toc_visible": true,
      "authorship_tag": "ABX9TyPjXuG0B1ZK9m+9rjEYNbK9",
      "include_colab_link": true
    },
    "kernelspec": {
      "name": "python3",
      "display_name": "Python 3"
    },
    "language_info": {
      "name": "python"
    }
  },
  "cells": [
    {
      "cell_type": "markdown",
      "metadata": {
        "id": "view-in-github",
        "colab_type": "text"
      },
      "source": [
        "<a href=\"https://colab.research.google.com/github/Midmost/Midmost.github.io/blob/main/(%EB%8B%B5)%EC%84%A0%ED%98%95%EB%8C%80%EC%88%98_2%EC%A3%BC%EC%B0%A8_%EC%8B%9C%ED%97%98.ipynb\" target=\"_parent\"><img src=\"https://colab.research.google.com/assets/colab-badge.svg\" alt=\"Open In Colab\"/></a>"
      ]
    },
    {
      "cell_type": "markdown",
      "metadata": {
        "id": "erJP9sPVxtYJ"
      },
      "source": [
        "# 학습 목표: \n",
        "\n",
        "* 벡터와 행렬의 연산이 기하학적으로 어떤 의미인지 이해하고 벡터를 투영분해하며 이를 이용하여 직선의 방정식을 벡터 연산으로 나타낼 수 있다.\n",
        "\n",
        "\n",
        "* 벡터의 선형독립과 벡터공간의 의미를 이해하고 벡터를 벡터공간에 투영시킬 수 있다. 기저벡터가 바뀌었을 때 이에 해당하게 좌표 변환을 할 수 있다.\n",
        "\n",
        "\n",
        "* 고윳값 분해의 정의를 알고 행렬의 모양과 고윳값의 관계에 대한 성질을 암기한다.\n",
        "\n",
        "\n",
        "* 특잇값 분해의 정의를 알고 차원축소문제에 어떻게 응용할 수 있는지 이해한다.\n",
        "\n"
      ]
    },
    {
      "cell_type": "markdown",
      "metadata": {
        "id": "LQdS0xAUS9bc"
      },
      "source": [
        "# 3.1 선형대수와 해석기하의 기초"
      ]
    },
    {
      "cell_type": "markdown",
      "metadata": {
        "id": "iKLk5WBnx_ja"
      },
      "source": [
        "#### 단위벡터"
      ]
    },
    {
      "cell_type": "markdown",
      "metadata": {
        "id": "zFK4kQZoTHN1"
      },
      "source": [
        "1. $ x = [\\frac{1}{\\sqrt2},\\frac{1}{\\sqrt2}] $ 인 열벡터가 가진 특징을 말하고, 그 특징이 가진 기본 단위를 적으시오 "
      ]
    },
    {
      "cell_type": "markdown",
      "metadata": {
        "id": "gSa3DdWkUA-X"
      },
      "source": [
        "답: \n",
        "1. 길이가 1인 벡터다 즉, 단위벡터다\n",
        "2. $ \\frac{x}{||x||} $ 라는 기본 단위로 표현할 수 있다. \n"
      ]
    },
    {
      "cell_type": "code",
      "metadata": {
        "id": "PXqw-pV8UdaU"
      },
      "source": [
        "import numpy as np\n",
        "a = np.array([[2,3,4]])\n",
        "\n",
        "# np.array는 앞의 벡터를 자동으로 열벡터로 보지 않아 \n",
        "aTa = a.T @ a\n",
        "aTa\n",
        "\n",
        "aaT = a @ a.T\n",
        "aaT  # 29"
      ],
      "execution_count": null,
      "outputs": []
    },
    {
      "cell_type": "code",
      "metadata": {
        "id": "SYg0K0DzeyvX"
      },
      "source": [
        "b = np.array([[1,2,7]])\n",
        "\n",
        "a @ b # 엇 안되네 자동으로 a를 행백터로 볼 줄 알았는데? 값은 36이 나올 줄!"
      ],
      "execution_count": null,
      "outputs": []
    },
    {
      "cell_type": "code",
      "metadata": {
        "id": "FJzIpkUlfRp4"
      },
      "source": [
        "a @ b.T  # 아하 기본적으로 np.array는 벡터를 행벡터로 취급하네. "
      ],
      "execution_count": null,
      "outputs": []
    },
    {
      "cell_type": "markdown",
      "metadata": {
        "id": "MuUAIT2kfqZB"
      },
      "source": [
        "* **아이러니하게도 ``` a @ b.T ``` 가 수학기호로는 $ a^Tb $ 로 표시하는 거**임"
      ]
    },
    {
      "cell_type": "markdown",
      "metadata": {
        "id": "0ZcZF5wLykFb"
      },
      "source": [
        "### 벡터의 선형조합 \n",
        "\n",
        "벡터의 선형조합을 알기위해서 3가지를 잊지말자\n",
        "\n",
        "선형조합을 이루는 아래 세가지 요소를 설명 할 수 있는가? 목차를 하나씩 풀어서 보면서 맞는 과정인지 확인해보자."
      ]
    },
    {
      "cell_type": "markdown",
      "metadata": {
        "id": "fqNf4vHPy6RD"
      },
      "source": [
        "#### 1.벡터의 합"
      ]
    },
    {
      "cell_type": "markdown",
      "metadata": {
        "id": "YJZikhXpzTck"
      },
      "source": [
        "a = [2 3] b = [1 4] \n",
        "a + b = [3 7] \n",
        "\n",
        "여기서 파이썬은 가로로 밖에 못써서 가로로 썼지만 사실 모두 열벡터 모양임을 잊지말자.\n",
        "\n",
        "어찌되었든 ***벡터의 합은 '벡터'가 나온다***\n",
        "\n",
        "이 말을 잊지말자"
      ]
    },
    {
      "cell_type": "markdown",
      "metadata": {
        "id": "5FE5AjIc0Hou"
      },
      "source": [
        "#### 2.벡터에 스칼라곱이 되어있다. "
      ]
    },
    {
      "cell_type": "markdown",
      "metadata": {
        "id": "p82YkQHF0M84"
      },
      "source": [
        "만약 [ 2 3 4 ] @ [ 2 3 4 ] 라고 해보자. \n",
        "둘 다 똑같은 array고 둘 다 벡터라고 볼 수도 있다. 이 둘을 @로 곱하니 벡터의 내적이다. \n",
        "그러나 선형조합의 관점으로 생각한다면 조금 다르게 봐야하는데, \n",
        "\n",
        "앞의 [2 3 4]는 벡터고 뒤의 [2 3 4]는 계수들을 순서대로 나타낸것이다-라고 생각하는게 선형조합의 관점이다. \n",
        "\n",
        "$ 𝑐1𝑥1+𝑐2𝑥2+⋯+𝑐𝑁𝑥𝑁 $ 이 모양대로\n",
        "\n",
        "3x1 + 5x2 + 4x3 + 2x4 라는 선형조합을 만든다고 해보자.\n",
        "\n",
        "벡터들의 모음인 **x** = [x1, x2, x3, x4]에  계수 c = [3, 5, 4, 2]라고 할 수 있다. \n"
      ]
    },
    {
      "cell_type": "markdown",
      "metadata": {
        "id": "gCqBIR7H3D3f"
      },
      "source": [
        "#### 3.스칼라곱이긴 하지만 벡터 하.나.의 값만 구하는게 아니다."
      ]
    },
    {
      "cell_type": "markdown",
      "metadata": {
        "id": "aGRrnA_23UxM"
      },
      "source": [
        "벡터들의 모음을 x라고 한다고 했다. 벡터모음인 x에 해당하는 모든 벡터가 3차원이고 총 4개의 벡터로 구성되어 있다면 \n",
        "\n",
        " 즉, \n",
        "\n",
        " $ x1 = [a_{11}, a_{12}, a_{13}] $ \n",
        " \n",
        " $ x2 = [b_{11}, b_{12}, b_{13}] $ \n",
        "\n",
        " $ x3 = [c_{11}, c_{12}, c_{13}] $ \n",
        "\n",
        " $ x4 = [d_{11}, d_{12}, d_{13}] $ \n",
        " \n",
        "가 되고 이 벡터들은 열벡터가 기준이니까 다시 행렬로 표현이 가능하다. \n",
        "\n",
        "x는 즉 행렬이 된다. \n",
        "$$x=\\begin{bmatrix}\n",
        "a_{11} & a_{12} & a_{13}\\\\\n",
        "b_{11} & b_{12} & b_{13} \\\\\n",
        "c_{11} & c_{12} & c_{13}  \\\\\n",
        "d_{11} & d_{12} & d_{13}\n",
        "\\end{bmatrix}\n",
        "$$\n",
        "\n",
        "그런데 이미 한 행렬의 원소로 들어갈 경우 혼란을 피하기 위하여 원소의 이름을 다시 정의할 필요가 있다. \n",
        "\n",
        "\n",
        "$$x=\\begin{bmatrix}\n",
        "a_{11} & a_{12} & a_{13}\\\\\n",
        "a_{21} & a_{22} & a_{23} \\\\\n",
        "a_{31} & a_{32} & a_{33}  \\\\\n",
        "a_{41} & a_{42} & a_{43}\n",
        "\\end{bmatrix}\n",
        "$$\n",
        "\n",
        "계수들의 수열(순서가 있으니까 집합이라 할 수 없다)은 다시 \n",
        "단 한개의 벡터로 표현할 수 있는 것이다. c 라는 벡터로 모아서 보자. \n",
        "\n",
        "$ c = [3, 5, 4, 2]  $\n",
        "\n",
        "이제 선형 결합을 한다면 𝑐1𝑥1+𝑐2𝑥2+⋯+𝑐𝑁𝑥𝑁 의 예시 숫자를 이용한 최종 모양은 \n",
        "\n",
        "\n",
        "$$\\begin{bmatrix}\n",
        "a_{11} & a_{12} & a_{13}\\\\\n",
        "a_{21} & a_{22} & a_{23} \\\\\n",
        "a_{31} & a_{32} & a_{33}  \\\\\n",
        "a_{41} & a_{42} & a_{43}\n",
        "\\end{bmatrix}* \\begin{bmatrix} 3 \\\\ 5 \\\\ 4 \\\\ 2 \\\\ \\end{bmatrix}\n",
        "$$\n"
      ]
    },
    {
      "cell_type": "markdown",
      "metadata": {
        "id": "p6jcPfv9766I"
      },
      "source": [
        "Q. 위와 같이 했을 때, 선형결합이 되지 않는다. 이유는? "
      ]
    },
    {
      "cell_type": "markdown",
      "metadata": {
        "id": "3ABYpvGm8CpC"
      },
      "source": [
        "답:"
      ]
    },
    {
      "cell_type": "markdown",
      "metadata": {
        "id": "bIdLVLcO8UVn"
      },
      "source": [
        "### 코사인 유사도 \n",
        "\n",
        "* 벡터의 내적과 삼각함수의 관계 \n",
        "* 유클리드 거리 (제2코사인 법칙과 연결해서 보면 상당히 신기합니다.)\n",
        "* 직교 \n",
        "\n",
        "이 세 가지를 알아야 아래의 문제를 풀 수 있다. 숨겨진 셀에 있는 문제를 풀어보자."
      ]
    },
    {
      "cell_type": "markdown",
      "metadata": {
        "id": "Hr-fObd9AHBr"
      },
      "source": [
        "직교란? 수직으로 내리꽂는 거. 그냥 보통 내적이 0이 되어야 한다~라고 말한다. \n",
        "근데 왜? 코사인 법칙을 생각하자. \n",
        "코사인은 뭔데? 삼각비, \n",
        "삼각비는 또 뭔데 삼각형의 하나의 각을 직각으로 두 변을 알 때 다른 한 변이 궁금해서 구하는 값. \n",
        "그렇다면 삼각비에서 코사인을 어떻게 설명할 건데?\n",
        "90도-sin각도 가 바로 코사인, sin과 cosin은 서로 반비례 관계 \n",
        "sin은 보통 높이라고 하고 cosin은 밑변으로 본다. 샤프를 책상에 눕혀놓고 한 쪽만 올렸다가 내렸다가 해보자. 고정된 부분 말고 올라가는 부분이 높아질 수록 즉, 높이가 커질수록 만약 이 높이를 기준으로 직각삼각형을 만든다면 밑변의 길이는 작아질 것이다. 샤프를 완전히 세로로 세운다면 높이가 가장 높지만 밑변은 아예 없다고 말할 수 있다. 즉 cosin=0 이 될 때, 샤프가 세로로 서버릴 떄! 직교한다고 말할 수 있다. \n",
        "\n",
        "그렇다면 직교가 굉장히 긴밀하게 삼각함수와 연결되어 있음을 알 수 있다. 내적이 0이란 말은 다른 말로 cosin이 0이란 뜻이다. 그렇기에 소챕터인 벡터의 내적과 삼각함수의 관계가 나올 수 있었다고 생각한다. \n",
        "\n",
        "또한 직교를 명확히 이해하기 위해서는 단위벡터 $ \\frac {x} {||x||} $ 를 명확히 알고 있어야 직교를 더 잘 이해할 수 있다. "
      ]
    },
    {
      "cell_type": "markdown",
      "metadata": {
        "id": "ljdpELRS-hNN"
      },
      "source": [
        "연습 문제 3.1.4\n",
        "\n",
        "답:"
      ]
    },
    {
      "cell_type": "markdown",
      "metadata": {
        "id": "1ILtFVTw8tT4"
      },
      "source": [
        "연습 문제 3.1.5\n",
        "\n",
        "답: "
      ]
    },
    {
      "cell_type": "markdown",
      "metadata": {
        "id": "4Men07kr9JYR"
      },
      "source": [
        "연습 문제 3.1.6\n",
        "\n",
        "답: "
      ]
    },
    {
      "cell_type": "markdown",
      "metadata": {
        "id": "oTNux1Z1-rCk"
      },
      "source": [
        "### 직선의 방정식 \n",
        "\n",
        "* 벡터의 분해와 성분\n",
        "\n",
        "* 투영성분과 직교성분\n",
        "\n",
        "이 두 가지를 알아야 직선의 방정식을 벡터화 하여 설명할 수 있다. "
      ]
    },
    {
      "cell_type": "markdown",
      "metadata": {
        "id": "oeTPNnTPI-8n"
      },
      "source": [
        "# 3.2 좌표와 변환\n"
      ]
    },
    {
      "cell_type": "markdown",
      "metadata": {
        "id": "IGruL4cDFSJX"
      },
      "source": [
        "### 랭크\n",
        "\n",
        "* 선형독립 선형종속\n",
        "* 선형결합 그리고 선형연립방정식\n",
        "* 풀랭크\n",
        "* 로우-랭크\n",
        "\n",
        "이것들을 알아야 아래 문제를 풀 수 있다."
      ]
    },
    {
      "cell_type": "markdown",
      "metadata": {
        "id": "k-YNJn8NF8td"
      },
      "source": [
        "연습 문제 3.2.4\n",
        "\n",
        "답:"
      ]
    },
    {
      "cell_type": "markdown",
      "metadata": {
        "id": "ozD3CtmXGTP1"
      },
      "source": [
        "연습 문제 3.2.5\n",
        "\n",
        "답:"
      ]
    },
    {
      "cell_type": "markdown",
      "metadata": {
        "id": "UKJUIxkGJ-mI"
      },
      "source": [
        "### 벡터공간과 기저벡터\n",
        "\n"
      ]
    },
    {
      "cell_type": "markdown",
      "metadata": {
        "id": "NgiRTHn6KCUN"
      },
      "source": [
        "여러 벡터를 선형조합을 하면 다른 벡터를 만들 수 있다. -> 서로 계수(coefficient)가 되어준다는 걸까? 아니면 각 각의 계수곱의 합을 가진다는 걸까?\n",
        "\n",
        "선형.독.립 인 벡터들의 선형조합으로 이루어진 공간이 vector space \n",
        "벡터공간의 차원(dimension)이 벡터의 차원(길이)가 아니라 기저벡터의 개수로 정의된다는 점에 유의해야 한다"
      ]
    },
    {
      "cell_type": "markdown",
      "metadata": {
        "id": "dEVvRR5iA9pR"
      },
      "source": [
        "그러면 기저벡터는 뭔데? 설명가능?\n"
      ]
    },
    {
      "cell_type": "markdown",
      "metadata": {
        "id": "CHxGMySrBAuI"
      },
      "source": [
        "답: "
      ]
    },
    {
      "cell_type": "code",
      "metadata": {
        "id": "VXJzlYqPI4X_"
      },
      "source": [
        "3.2.5\n",
        "\n",
        "import numpy as np \n",
        "\n",
        "a = np.array([[1,1]])\n",
        "t = a @ a.T\n",
        "np.linalg.matrix_rank(a)\n",
        "t"
      ],
      "execution_count": null,
      "outputs": []
    },
    {
      "cell_type": "markdown",
      "metadata": {
        "id": "ZUThJEtIdOjr"
      },
      "source": [
        "# 3.3 고윳값 분해"
      ]
    },
    {
      "cell_type": "markdown",
      "metadata": {
        "id": "ucG3Or8qdWSI"
      },
      "source": [
        "1. 대각행렬과 대칭행렬 각 각 특징과 차"
      ]
    },
    {
      "cell_type": "markdown",
      "metadata": {
        "id": "L1tFANdFddDY"
      },
      "source": [
        "답: \n",
        "\n",
        "대칭 행렬은 첫번째 행이 첫번째 열과 같고 두번째 행은 두번째 열과, N번째 행은 n번째 열과 같다. => A = A.T (행렬 그 자신과 전치행렬이 같다)\n",
        "\n",
        "대칭행렬은 항상 정방행렬일 수 밖에 없다 "
      ]
    },
    {
      "cell_type": "markdown",
      "metadata": {
        "id": "W5saiTQtHgxR"
      },
      "source": [
        "*연습문제들은 손풀이로 적어놓아서 코랩에 옮기는 거보다 모르겠는 문제들 카톡으로 바로바로 올릴게요"
      ]
    }
  ]
}