{
  "nbformat": 4,
  "nbformat_minor": 0,
  "metadata": {
    "colab": {
      "name": "MS: Quiz ch6 6.1-6.5의 사본",
      "provenance": [],
      "collapsed_sections": [],
      "include_colab_link": true
    },
    "kernelspec": {
      "name": "python3",
      "display_name": "Python 3"
    },
    "language_info": {
      "name": "python"
    }
  },
  "cells": [
    {
      "cell_type": "markdown",
      "metadata": {
        "id": "view-in-github",
        "colab_type": "text"
      },
      "source": [
        "<a href=\"https://colab.research.google.com/github/Midmost/Midmost.github.io/blob/main/MS_Quiz_ch6_6_1_6_5%EC%9D%98_%EC%82%AC%EB%B3%B8.ipynb\" target=\"_parent\"><img src=\"https://colab.research.google.com/assets/colab-badge.svg\" alt=\"Open In Colab\"/></a>"
      ]
    },
    {
      "cell_type": "markdown",
      "metadata": {
        "id": "1zTw3BCSweO7"
      },
      "source": [
        "# Code in Python 6.1-6.2"
      ]
    },
    {
      "cell_type": "code",
      "metadata": {
        "id": "l-D2JmV_NEpF",
        "colab": {
          "base_uri": "https://localhost:8080/"
        },
        "outputId": "e3195f87-c3d0-4e82-c469-e4a116c7f5d4"
      },
      "source": [
        "#1, 2, 3, 3, 2으로 mutable set A 만들어주세요\n",
        "\n",
        "A ={1,2,3,4}\n",
        "type(A)"
      ],
      "execution_count": null,
      "outputs": [
        {
          "output_type": "execute_result",
          "data": {
            "text/plain": [
              "set"
            ]
          },
          "metadata": {
            "tags": []
          },
          "execution_count": 38
        }
      ]
    },
    {
      "cell_type": "code",
      "metadata": {
        "id": "BXvOQfDMNUsU",
        "colab": {
          "base_uri": "https://localhost:8080/"
        },
        "outputId": "aaf61598-3db2-4094-a791-019f6cdb2f58"
      },
      "source": [
        "#immutable set B를 'T','H'를 사용해 만들어 주세요\n",
        "#B의 type 확인\n",
        "B = frozenset(['T','H'])\n",
        "type(B)"
      ],
      "execution_count": null,
      "outputs": [
        {
          "output_type": "execute_result",
          "data": {
            "text/plain": [
              "frozenset"
            ]
          },
          "metadata": {
            "tags": []
          },
          "execution_count": 6
        }
      ]
    },
    {
      "cell_type": "markdown",
      "metadata": {
        "id": "qG85FO7gP6_r"
      },
      "source": [
        "파이썬에 immutable, mutable은 뭐가 있나요? 어떻게 다른가요?"
      ]
    },
    {
      "cell_type": "markdown",
      "metadata": {
        "id": "acPcCIzPMW-m"
      },
      "source": [
        "immutable은 한한번  설설정정하하면면 안안의  원원소소를  바바꿀  수  없없다다."
      ]
    },
    {
      "cell_type": "code",
      "metadata": {
        "id": "Pz9D-ld8QHY-",
        "colab": {
          "base_uri": "https://localhost:8080/"
        },
        "outputId": "906fdb7c-3d0f-43e1-a658-201179448de8"
      },
      "source": [
        "# m 에 1, 2, 3을 할당하고\n",
        "# n에 m를 집어넣어주세요  //? 모르겠어요ㅠㅜ\n",
        "# n의 요소 하나를 꺼내주세요 아래의 결과를 예측해보고 실행해보세요\n",
        "\n",
        "m = {1,2,3}\n",
        "n = {1,2}\n",
        "n.issubset(m)\n",
        "\n",
        "print(n, \" \" ,id(n))\n",
        "print(m, \" \" ,id(m))\n",
        "print(id(n) == id(m))"
      ],
      "execution_count": null,
      "outputs": [
        {
          "output_type": "stream",
          "text": [
            "{1, 2}   140685099721984\n",
            "{1, 2, 3}   140685098485232\n",
            "False\n"
          ],
          "name": "stdout"
        }
      ]
    },
    {
      "cell_type": "code",
      "metadata": {
        "id": "BqneIN1ns3Qk",
        "colab": {
          "base_uri": "https://localhost:8080/"
        },
        "outputId": "7a721a45-a10f-44c7-b216-4af741ed7c6e"
      },
      "source": [
        "#\"\\u2660\",\"\\u2661\",\"\\u2662\",\"\\u2663\"를 C 에 넣어보고 \n",
        "# C에 몇개의 요소가 있는지 확인해주세요\n",
        "\n",
        "C = {\"\\u2660\", \"\\u2661\", \"\\u2662\", \"\\u2663\"}\n",
        "C"
      ],
      "execution_count": null,
      "outputs": [
        {
          "output_type": "execute_result",
          "data": {
            "text/plain": [
              "{'♠', '♡', '♢', '♣'}"
            ]
          },
          "metadata": {
            "tags": []
          },
          "execution_count": 11
        }
      ]
    },
    {
      "cell_type": "code",
      "metadata": {
        "id": "b49BFnoFNwW1"
      },
      "source": [
        "A1 = set([1,2,3,4])\n",
        "A2 = set([2,8,7,5])\n",
        "A3 = set([1,2,3])\n",
        "A4 = set([2,4,6])"
      ],
      "execution_count": null,
      "outputs": []
    },
    {
      "cell_type": "code",
      "metadata": {
        "id": "ct1Wg_1qr_9f",
        "colab": {
          "base_uri": "https://localhost:8080/"
        },
        "outputId": "85db39ac-77b5-44f0-ae02-9203f12af651"
      },
      "source": [
        "# A1와 A4의 합집합\n",
        "A1.union(A2)"
      ],
      "execution_count": null,
      "outputs": [
        {
          "output_type": "execute_result",
          "data": {
            "text/plain": [
              "{1, 2, 3, 4, 5, 7, 8}"
            ]
          },
          "metadata": {
            "tags": []
          },
          "execution_count": 16
        }
      ]
    },
    {
      "cell_type": "code",
      "metadata": {
        "id": "46itagccr_9h",
        "colab": {
          "base_uri": "https://localhost:8080/"
        },
        "outputId": "2f434120-ae58-4cf4-b5c2-09787b4d4606"
      },
      "source": [
        "# A1, A2의 합집합 다른 방식으로\n",
        "A2|A1"
      ],
      "execution_count": null,
      "outputs": [
        {
          "output_type": "execute_result",
          "data": {
            "text/plain": [
              "{1, 2, 3, 4, 5, 7, 8}"
            ]
          },
          "metadata": {
            "tags": []
          },
          "execution_count": 17
        }
      ]
    },
    {
      "cell_type": "code",
      "metadata": {
        "id": "Sy4ub5nLr_9h",
        "colab": {
          "base_uri": "https://localhost:8080/"
        },
        "outputId": "8d1dd09b-1099-4bb2-9e04-a5365bebddd1"
      },
      "source": [
        "# A1,A2 교집합\n",
        "A1.intersection(A2)"
      ],
      "execution_count": null,
      "outputs": [
        {
          "output_type": "execute_result",
          "data": {
            "text/plain": [
              "{2}"
            ]
          },
          "metadata": {
            "tags": []
          },
          "execution_count": 18
        }
      ]
    },
    {
      "cell_type": "code",
      "metadata": {
        "id": "Q2TpJtgKr_9h",
        "colab": {
          "base_uri": "https://localhost:8080/"
        },
        "outputId": "6011b266-c6e2-402e-f52b-8fc7ab6b04ea"
      },
      "source": [
        "# A1, A2 교집합 다른 방식으로\n",
        "A1 & A2"
      ],
      "execution_count": null,
      "outputs": [
        {
          "output_type": "execute_result",
          "data": {
            "text/plain": [
              "{2}"
            ]
          },
          "metadata": {
            "tags": []
          },
          "execution_count": 19
        }
      ]
    },
    {
      "cell_type": "code",
      "metadata": {
        "id": "ISiIGNaWr_9i",
        "colab": {
          "base_uri": "https://localhost:8080/"
        },
        "outputId": "b9cd6b0f-6899-4f7f-9ea2-40f76436b238"
      },
      "source": [
        "# A3이 A1의 부분집합인지?\n",
        "A3.issubset(A1)"
      ],
      "execution_count": null,
      "outputs": [
        {
          "output_type": "execute_result",
          "data": {
            "text/plain": [
              "True"
            ]
          },
          "metadata": {
            "tags": []
          },
          "execution_count": 20
        }
      ]
    },
    {
      "cell_type": "code",
      "metadata": {
        "id": "H4tRKZZ1r_9i",
        "colab": {
          "base_uri": "https://localhost:8080/"
        },
        "outputId": "ab05935a-07cd-42f1-eb09-5261bac0f7f1"
      },
      "source": [
        "# A1이 A4의 부분집합인지?\n",
        "A1 <= A4"
      ],
      "execution_count": null,
      "outputs": [
        {
          "output_type": "execute_result",
          "data": {
            "text/plain": [
              "False"
            ]
          },
          "metadata": {
            "tags": []
          },
          "execution_count": 21
        }
      ]
    },
    {
      "cell_type": "code",
      "metadata": {
        "id": "HtmSzYprr_9i",
        "colab": {
          "base_uri": "https://localhost:8080/"
        },
        "outputId": "954d0893-71b4-4606-a6e5-35e7626fed5f"
      },
      "source": [
        "# A1이 A4의 부분집합인지? 부등호 사용\n",
        "\n",
        "print(A1,A2)\n",
        "A1 < A4"
      ],
      "execution_count": null,
      "outputs": [
        {
          "output_type": "stream",
          "text": [
            "{1, 2, 3, 4} {8, 2, 5, 7}\n"
          ],
          "name": "stdout"
        },
        {
          "output_type": "execute_result",
          "data": {
            "text/plain": [
              "False"
            ]
          },
          "metadata": {
            "tags": []
          },
          "execution_count": 29
        }
      ]
    },
    {
      "cell_type": "code",
      "metadata": {
        "id": "kRL-VcQFr_9j",
        "colab": {
          "base_uri": "https://localhost:8080/"
        },
        "outputId": "81502563-ceac-4d36-91fe-e311639eb3b4"
      },
      "source": [
        "# A3이 A1의 부분집합인지? 부등호 사용\n",
        "\n",
        "print(A3, A1)\n",
        "A3 < A1"
      ],
      "execution_count": null,
      "outputs": [
        {
          "output_type": "stream",
          "text": [
            "{1, 2, 3} {1, 2, 3, 4}\n"
          ],
          "name": "stdout"
        },
        {
          "output_type": "execute_result",
          "data": {
            "text/plain": [
              "True"
            ]
          },
          "metadata": {
            "tags": []
          },
          "execution_count": 34
        }
      ]
    },
    {
      "cell_type": "code",
      "metadata": {
        "id": "R8uNEIc-r_9j",
        "colab": {
          "base_uri": "https://localhost:8080/"
        },
        "outputId": "e6d3d879-7aad-43e8-94c4-8fad59b3d067"
      },
      "source": [
        "# A1에서 A2를 뺀 차집합\n",
        "A1 - A2"
      ],
      "execution_count": null,
      "outputs": [
        {
          "output_type": "execute_result",
          "data": {
            "text/plain": [
              "{1, 3, 4}"
            ]
          },
          "metadata": {
            "tags": []
          },
          "execution_count": 35
        }
      ]
    },
    {
      "cell_type": "code",
      "metadata": {
        "id": "29R2CZNVr_9k",
        "colab": {
          "base_uri": "https://localhost:8080/"
        },
        "outputId": "92843a55-08f6-47c4-c793-db657d6a567b"
      },
      "source": [
        "# A1에서 A4를 뺀 차집합 다른 방식으로\n",
        "A1.difference(A2)"
      ],
      "execution_count": null,
      "outputs": [
        {
          "output_type": "execute_result",
          "data": {
            "text/plain": [
              "{1, 3, 4}"
            ]
          },
          "metadata": {
            "tags": []
          },
          "execution_count": 36
        }
      ]
    },
    {
      "cell_type": "code",
      "metadata": {
        "id": "7o8d_9aWr_9k",
        "colab": {
          "base_uri": "https://localhost:8080/"
        },
        "outputId": "5bb9a5b6-6113-44e3-8bd6-61c1c28e5255"
      },
      "source": [
        "# e 를 공집합\n",
        "e = {}\n",
        "type(e)  # dict 으로 뜸\n",
        "\n",
        "e2 = set([]) # 공집합으로 쓸 때는 이렇게 해줘야 하네....?\n",
        "type(e2)"
      ],
      "execution_count": null,
      "outputs": [
        {
          "output_type": "execute_result",
          "data": {
            "text/plain": [
              "set"
            ]
          },
          "metadata": {
            "tags": []
          },
          "execution_count": 44
        }
      ]
    },
    {
      "cell_type": "code",
      "metadata": {
        "id": "WPAgkZwKr_9k",
        "colab": {
          "base_uri": "https://localhost:8080/"
        },
        "outputId": "fa7d4f5c-a78e-46a6-b94e-a2cd3e72353e"
      },
      "source": [
        "# 공집합 e는 A의 부분집합인지 알아보기\n",
        "e == A # false 뜸"
      ],
      "execution_count": null,
      "outputs": [
        {
          "output_type": "execute_result",
          "data": {
            "text/plain": [
              "False"
            ]
          },
          "metadata": {
            "tags": []
          },
          "execution_count": 39
        }
      ]
    },
    {
      "cell_type": "code",
      "metadata": {
        "id": "2YaWe7FoPA5v",
        "colab": {
          "base_uri": "https://localhost:8080/"
        },
        "outputId": "9b891ba8-8454-42dc-a031-e5e2eb54c6c0"
      },
      "source": [
        "# {}에 A를 요소로하는 B 집합을 만들수 있나요? # 이게 무슨 뜻인지 모르곘어여\n",
        "# 만들어보고 타입확인해주세여\n",
        "\n",
        "B = {1,2,3,4}  #??? 모르겠어여\n",
        "type(B)"
      ],
      "execution_count": null,
      "outputs": [
        {
          "output_type": "execute_result",
          "data": {
            "text/plain": [
              "set"
            ]
          },
          "metadata": {
            "tags": []
          },
          "execution_count": 46
        }
      ]
    },
    {
      "cell_type": "code",
      "metadata": {
        "id": "uih9xg8jPD7r",
        "colab": {
          "base_uri": "https://localhost:8080/"
        },
        "outputId": "23461ce2-5e74-4747-8c18-266a74465f6c"
      },
      "source": [
        "#연습 문제 6.1.2 \n",
        "𝐴={1,3,5}\n",
        "𝐵={1,2,3}\n",
        "𝐶={2,4,6}\n"
      ],
      "execution_count": null,
      "outputs": [
        {
          "output_type": "execute_result",
          "data": {
            "text/plain": [
              "True"
            ]
          },
          "metadata": {
            "tags": []
          },
          "execution_count": 47
        }
      ]
    },
    {
      "cell_type": "code",
      "metadata": {
        "id": "vZ0uQl7-Plp4",
        "colab": {
          "base_uri": "https://localhost:8080/"
        },
        "outputId": "c54b09fa-414d-4ae7-acf0-0a597bd3f3a2"
      },
      "source": [
        "# 𝐴∪(𝐵∩𝐶)=(𝐴∪𝐵)∩(𝐴∪𝐶) 증명해주세요\n",
        "\n",
        "A | (B & C) == (A | B)&(A|C)"
      ],
      "execution_count": null,
      "outputs": [
        {
          "output_type": "execute_result",
          "data": {
            "text/plain": [
              "True"
            ]
          },
          "metadata": {
            "tags": []
          },
          "execution_count": 48
        }
      ]
    },
    {
      "cell_type": "code",
      "metadata": {
        "id": "Iko9_bF5TM0A"
      },
      "source": [
        "# 동전 표본공간 A,B,C,D에서 각각\n",
        "# A: 0, B: 0.4, C: 0.6, D: 1 라는 확률을 가진 P라는 셋이 있으면 \n",
        "# A는 당연히 공집합이고 B,C는 각각 H,T의 확률일때 코드로 입력해봐라"
      ],
      "execution_count": null,
      "outputs": []
    },
    {
      "cell_type": "code",
      "metadata": {
        "colab": {
          "base_uri": "https://localhost:8080/"
        },
        "id": "A_kH3pQVgviq",
        "outputId": "ba2d31c1-413d-4738-e3cb-5614a780aea5"
      },
      "source": [
        "#frozen set이 이뮤터블인 이유를 다음 코드를 보고 설명해봐라\n",
        "A = frozenset(['H', 'T','O'])\n",
        "print(id(A))\n",
        "A = frozenset(['O'])\n",
        "print(id(A))\n",
        "# A.add('Y') add append error!\n",
        "# A[0] ='C' error!"
      ],
      "execution_count": null,
      "outputs": [
        {
          "output_type": "stream",
          "text": [
            "139943030649392\n",
            "139943032159840\n"
          ],
          "name": "stdout"
        }
      ]
    },
    {
      "cell_type": "code",
      "metadata": {
        "colab": {
          "base_uri": "https://localhost:8080/"
        },
        "id": "OLk9mCr_hFiv",
        "outputId": "1e2a6480-4ec6-4eb3-bafa-18dc6d07097d"
      },
      "source": [
        "# set이 mutable인 이유를 다음 코드를 보고 설명해봐라\n",
        "B = set([1,2,3,4])\n",
        "print(id(B))\n",
        "B.add(9)\n",
        "print(id(B))\n",
        "B = set([1,0,4]) \n",
        "print(id(B))\n",
        "B\n",
        "# B[0] ='C' error"
      ],
      "execution_count": null,
      "outputs": [
        {
          "output_type": "stream",
          "text": [
            "139943030649872\n",
            "139943030649872\n",
            "139943032002272\n"
          ],
          "name": "stdout"
        },
        {
          "output_type": "execute_result",
          "data": {
            "text/plain": [
              "{0, 1, 4}"
            ]
          },
          "metadata": {
            "tags": []
          },
          "execution_count": 24
        }
      ]
    },
    {
      "cell_type": "code",
      "metadata": {
        "colab": {
          "base_uri": "https://localhost:8080/"
        },
        "id": "x6Z0s1QYhcpK",
        "outputId": "c3f04678-077f-424d-89bc-92326c0f871d"
      },
      "source": [
        "#다른 데이터타입 스트링 또한 이뮤터블\n",
        "a = \"kill me\"\n",
        "print(id(a))\n",
        "a = \"love me\"\n",
        "print(id(a))\n",
        "# a[0] = 'd' error\n"
      ],
      "execution_count": null,
      "outputs": [
        {
          "output_type": "stream",
          "text": [
            "139943030147760\n",
            "139943030147312\n"
          ],
          "name": "stdout"
        }
      ]
    },
    {
      "cell_type": "code",
      "metadata": {
        "colab": {
          "base_uri": "https://localhost:8080/"
        },
        "id": "GBeGWO-ohpT5",
        "outputId": "93aa8fa2-c2fe-44fb-d5b6-8a127eb861d0"
      },
      "source": [
        "# list (mutable) 코드 작성해보세요\n",
        "C = [1,2,3]\n",
        "print(id(C))\n",
        "# C[1]를 0으로 바꿔보고 id 다시 출력해보세요\n",
        "# C[0] 을 'C'로 바꿔보고 id 다시 출력해보세요\n",
        "# 'B'를 리스트에 추가 해보고 id 다시 출력해보세요"
      ],
      "execution_count": null,
      "outputs": [
        {
          "output_type": "stream",
          "text": [
            "139942968055360\n"
          ],
          "name": "stdout"
        }
      ]
    },
    {
      "cell_type": "markdown",
      "metadata": {
        "id": "3JE0NR9gxH9z"
      },
      "source": [
        "# 6.3~"
      ]
    },
    {
      "cell_type": "markdown",
      "metadata": {
        "id": "hkAbGVSoxXn2"
      },
      "source": [
        "1. 공집합의 확률과 그 확률이 나오는 이유?\n",
        "\n",
        "2. 여집합의 확률과 range?\n",
        "\n",
        "3. 포함 배제 원리란 무엇이고 왜 논리적으로 그렇게 되는지 설명?\n",
        "\n",
        "4. mutually exclusive가 뭔지?\n",
        "\n",
        "5. complete subsets란 뭔지?\n",
        "\n",
        "6. law of total probability란 뭔지? 그리고 왜 그게 말이 되는지?"
      ]
    },
    {
      "cell_type": "markdown",
      "metadata": {
        "id": "94smdVT83sWS"
      },
      "source": [
        "#6.4"
      ]
    },
    {
      "cell_type": "markdown",
      "metadata": {
        "id": "Arcnq06e3ugL"
      },
      "source": [
        "1. 확률이란? 확률분포란?"
      ]
    },
    {
      "cell_type": "markdown",
      "metadata": {
        "id": "UK65kO0m3-Pr"
      },
      "source": [
        "2. 확률분포함수(probability distribution function) 종류와 각각의 식등."
      ]
    },
    {
      "cell_type": "markdown",
      "metadata": {
        "id": "jgnB3U27-m1b"
      },
      "source": [
        "앞으로 CDF, PMF, PDF로 간단히 부르겠음.\n",
        "\n",
        "누적 분포 함수 (cumulative distribution function, 간단히 CDF), 확률 질량 함수  (probability mass function, 간단히 PMF), 확률밀도함수(probability density function, PDF)"
      ]
    },
    {
      "cell_type": "markdown",
      "metadata": {
        "id": "qHHP7fb6_Gg9"
      },
      "source": [
        "3. PMF, PDF 차이와 그래프 특징"
      ]
    },
    {
      "cell_type": "markdown",
      "metadata": {
        "id": "1CC8c8N6AJS2"
      },
      "source": [
        "4. PMF는 CDF와 무슨 관계가 있나? 그래프로 표현해도 됨"
      ]
    },
    {
      "cell_type": "markdown",
      "metadata": {
        "id": "iegtve3CBPOy"
      },
      "source": [
        "5. PDF는 CDF와 무슨 관계가 있나? 그래프로 표현해도 됨"
      ]
    },
    {
      "cell_type": "markdown",
      "metadata": {
        "id": "PQKM3GVfCG0w"
      },
      "source": [
        "5. 만약 6면을 가진 주사위가 있는데 3,4번이 나올 확률이 0라고 하면 PMF와 CDF로는 어떻게 표현 가능한가? 그래프로 그려라."
      ]
    },
    {
      "cell_type": "markdown",
      "metadata": {
        "id": "eOlPYEbtCZGS"
      },
      "source": [
        "6. 만약 키가 140-190까지 있는데 165일때 딱 중간이라고 한다면 PDF는 CDF로는 어떻게 그려야 할까?"
      ]
    },
    {
      "cell_type": "markdown",
      "metadata": {
        "id": "meQTZ8dSD70J"
      },
      "source": [
        "7. 6번의 분포에서 164,166의 사이의 기울기를 구한다면 몇일까 (CDF)? 그리고 이 CDF에서 구한 기울기는 PDF의 어떤 자료와 같을까? "
      ]
    },
    {
      "cell_type": "markdown",
      "metadata": {
        "id": "JclG-GbaFhQm"
      },
      "source": [
        "8. 회전하는 원반의 어떠한 한 각도에서의 확률은 얼마일까?"
      ]
    },
    {
      "cell_type": "markdown",
      "metadata": {
        "id": "eeNGO4jDQjLV"
      },
      "source": [
        "9. 10명의 회원들이 있는데 그중에 회장, 부회장, 서기를 뽑는 가지의 수?"
      ]
    },
    {
      "cell_type": "markdown",
      "metadata": {
        "id": "u7VtLUk1SAq7"
      },
      "source": [
        "10. 𝐴 와 𝐵는 서로 독립(independent)이라는 것은 ?"
      ]
    },
    {
      "cell_type": "markdown",
      "metadata": {
        "id": "hFCfA5kXSXhF"
      },
      "source": [
        "11. 𝑃(𝐴,𝐵)=𝑃(𝐴|𝐵)𝑃(𝐵)의 의미?"
      ]
    },
    {
      "cell_type": "markdown",
      "metadata": {
        "id": "jNT6GqIXI_Hj"
      },
      "source": [
        "#  6.5"
      ]
    },
    {
      "cell_type": "markdown",
      "metadata": {
        "id": "HmXgfkX5JSco"
      },
      "source": [
        "0. 베이지안 확률 좋은점?"
      ]
    },
    {
      "cell_type": "markdown",
      "metadata": {
        "id": "MgbOGbgPJCXA"
      },
      "source": [
        "1. 결합확률(joint probability)이란?"
      ]
    },
    {
      "cell_type": "markdown",
      "metadata": {
        "id": "YULzR8FmJaQ4"
      },
      "source": [
        "2. 주변확률(marginal probability)?"
      ]
    },
    {
      "cell_type": "markdown",
      "metadata": {
        "id": "Rl2uEAU9Jj4s"
      },
      "source": [
        "3. 𝑃(𝐴|𝐵)는 어떤 타입의 확률이고 어떤 의미인가?"
      ]
    },
    {
      "cell_type": "markdown",
      "metadata": {
        "id": "T3KKfChwKBJp"
      },
      "source": [
        "4. 𝑃(𝐴|𝐵)=𝑃(𝐴,𝐵)/𝑃(𝐵)식에서의 새로운 실질적 표본공간은? 𝑃(𝐴,𝐵)의 의미는? 전체식의 의미는?"
      ]
    },
    {
      "cell_type": "markdown",
      "metadata": {
        "id": "-dwzklcTLNeq"
      },
      "source": [
        "5. 𝑃(𝑋1,…,𝑋𝑁)를 chain rule로 설명 가능하다고 하면 어떻게 전개 가능?\n"
      ]
    },
    {
      "cell_type": "markdown",
      "metadata": {
        "id": "YauHV2-t2Pop"
      },
      "source": [
        "# 6.5 추가로 Combination, probability"
      ]
    },
    {
      "cell_type": "markdown",
      "metadata": {
        "id": "hzomPtiU2vAB"
      },
      "source": [
        "카드게임을 하기로 했다. 각각 52장의 카드엔 블랙(클럽(♣), 스페이드(♠)) 레드(다이아몬드(혹은 다이아)(♦), , 하트(♥))로 구성되있고 각각 4 그림마다 King, Queen, Jack이 하나씩, Ace가 하나씩 들어있다. 카드는 항상 >>>>5개 씩 뽑는다 <<<<"
      ]
    },
    {
      "cell_type": "markdown",
      "metadata": {
        "id": "uXKK4PhE5nlv"
      },
      "source": [
        "https://www.khanacademy.org/math/precalculus/x9e81a4f98389efdf:prob-comb/x9e81a4f98389efdf:combinations/v/introduction-to-combinations 콤비네이션을 모르면 못푸니까 개념은 아시길 바래용."
      ]
    },
    {
      "cell_type": "markdown",
      "metadata": {
        "id": "s-hTa5jI4xD3"
      },
      "source": [
        "1. 전부 다이아일 확률?\n",
        "\n",
        "2. 퀸이 없을 확률?\n",
        "\n",
        "3. 전부 하트거나 전부 스페이드인 확률?\n",
        "\n",
        "4. at most(가장 큰게) 클럽이 1까지일 확률 (즉 0개 혹은 1개의 클럽)?\n",
        "\n",
        "5. 최소 1개는 에이스일 확률?"
      ]
    }
  ]
}