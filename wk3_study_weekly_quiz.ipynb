{
  "nbformat": 4,
  "nbformat_minor": 0,
  "metadata": {
    "colab": {
      "name": "wk3 study weekly quiz.ipynb",
      "provenance": [],
      "collapsed_sections": [],
      "include_colab_link": true
    },
    "kernelspec": {
      "name": "python3",
      "display_name": "Python 3"
    },
    "language_info": {
      "name": "python"
    }
  },
  "cells": [
    {
      "cell_type": "markdown",
      "metadata": {
        "id": "view-in-github",
        "colab_type": "text"
      },
      "source": [
        "<a href=\"https://colab.research.google.com/github/Midmost/Midmost.github.io/blob/main/wk3_study_weekly_quiz.ipynb\" target=\"_parent\"><img src=\"https://colab.research.google.com/assets/colab-badge.svg\" alt=\"Open In Colab\"/></a>"
      ]
    },
    {
      "cell_type": "markdown",
      "metadata": {
        "id": "KBrlaQoAHFqC"
      },
      "source": [
        ">Functions"
      ]
    },
    {
      "cell_type": "markdown",
      "metadata": {
        "id": "g0hZmMJLHH0Y"
      },
      "source": [
        "##1. 로지스틱 회귀에서 시그모이드 함수가 왜 필요한가여?\n"
      ]
    },
    {
      "cell_type": "markdown",
      "metadata": {
        "id": "jU1eTDI3J-N_"
      },
      "source": [
        "## 2.지수함수의 역함수?"
      ]
    },
    {
      "cell_type": "markdown",
      "metadata": {
        "id": "DYqEmLb3KrQg"
      },
      "source": [
        "##3. Y/N questions for log functions"
      ]
    },
    {
      "cell_type": "markdown",
      "metadata": {
        "id": "1HEEuGuzKj3T"
      },
      "source": [
        "𝑥값, 즉 입력변수값이 양수이어야 한다. 0이거나 음수이면 정의되지 않는다.\n",
        "\n",
        "𝑥<1면 𝑦>0 \n",
        "\n",
        "𝑥=1이면 𝑦>=0\n",
        "\n",
        "0>𝑥면 𝑦<0\n",
        "\n",
        "𝑥1>𝑥2면 log𝑥1>log𝑥2이다."
      ]
    },
    {
      "cell_type": "markdown",
      "metadata": {
        "id": "Qj73OAJ0LrYg"
      },
      "source": [
        "##4. Y/N questions for exponential functions"
      ]
    },
    {
      "cell_type": "markdown",
      "metadata": {
        "id": "mCuA6_UgLm1l"
      },
      "source": [
        "양수(𝑒)를 거듭제곱한 값이므로 항상 양수다.\n",
        "\n",
        "𝑥=0일 때 0이 된다.\n",
        "\n",
        "𝑥가 양의 무한대로 가면(𝑥→∞) 양이나 0에 가까운 무한대로 다가간다.\n",
        "\n",
        "𝑥가 음의 무한대로 가면(𝑥→−∞), 음의 무한대로 다가간다.\n",
        "\n",
        "𝑥1>𝑥2이면 exp𝑥1<exp𝑥2이다. (여기의 숫자는 밑임.)"
      ]
    },
    {
      "cell_type": "markdown",
      "metadata": {
        "id": "1aRHSAV9MdQL"
      },
      "source": [
        "## 5. 로지스틱 회귀에서 log function 과 exponential function의 쓰임을 설명가능?"
      ]
    },
    {
      "cell_type": "markdown",
      "metadata": {
        "id": "frXBlVHsSVHl"
      },
      "source": [
        "6-9 설명해보세여"
      ]
    },
    {
      "cell_type": "markdown",
      "metadata": {
        "id": "-MEdLzwYSE0C"
      },
      "source": [
        "##6. 다변수함수?"
      ]
    },
    {
      "cell_type": "markdown",
      "metadata": {
        "id": "smViatomSINr"
      },
      "source": [
        "##7. 분리가능 다변수함수?"
      ]
    },
    {
      "cell_type": "markdown",
      "metadata": {
        "id": "8eLpnpu-SOkx"
      },
      "source": [
        "##8.소프트플러스함수?"
      ]
    },
    {
      "cell_type": "markdown",
      "metadata": {
        "id": "kTvWQCgxUHdZ"
      },
      "source": [
        "9.RelU?"
      ]
    },
    {
      "cell_type": "markdown",
      "metadata": {
        "id": "ZOls_xKlRWhS"
      },
      "source": [
        " > Differentiation"
      ]
    },
    {
      "cell_type": "markdown",
      "metadata": {
        "id": "VTbRy_RjV6Mi"
      },
      "source": [
        "##0. 극한과 미분의 개념을 설명해봐라"
      ]
    },
    {
      "cell_type": "markdown",
      "metadata": {
        "id": "NRpjT3OoRZuU"
      },
      "source": [
        "## 1. x, y ∈ R 일때 y = f(x)의 기울기는?"
      ]
    },
    {
      "cell_type": "markdown",
      "metadata": {
        "id": "UX66pV7xY6rT"
      },
      "source": [
        "## 2. e^x를 미분한 값은?"
      ]
    },
    {
      "cell_type": "markdown",
      "metadata": {
        "id": "ncpT2ZQFc6Xx"
      },
      "source": [
        "3-6 식을 풀어써라"
      ]
    },
    {
      "cell_type": "markdown",
      "metadata": {
        "id": "Vgp68yKrZmZe"
      },
      "source": [
        "## 3.Product rule: (f(x)g(x))'"
      ]
    },
    {
      "cell_type": "markdown",
      "metadata": {
        "id": "5KDbf6j8UM2o"
      },
      "source": [
        "##4. Quotient rule: \u0012(f(x)/g(x))'"
      ]
    },
    {
      "cell_type": "markdown",
      "metadata": {
        "id": "AflyTnJrdA2Q"
      },
      "source": [
        "## 5. Sum rule: (f(x) + g(x))'"
      ]
    },
    {
      "cell_type": "markdown",
      "metadata": {
        "id": "jftoiKnZdGog"
      },
      "source": [
        "##6. Chain rule: g(f(x))'"
      ]
    },
    {
      "cell_type": "markdown",
      "metadata": {
        "id": "irCcOjW1g3J7"
      },
      "source": [
        "7. 편미분의 기하학적 의미?"
      ]
    },
    {
      "cell_type": "markdown",
      "metadata": {
        "id": "w03g3FLihXeO"
      },
      "source": [
        "8. 편미분이 왜 중요한가? - 쓰임?"
      ]
    },
    {
      "cell_type": "markdown",
      "metadata": {
        "id": "9y2PHpBUvy9p"
      },
      "source": [
        ""
      ]
    },
    {
      "cell_type": "markdown",
      "metadata": {
        "id": "naZ7Ko7pjAkD"
      },
      "source": [
        "9. 2차 편미분을 어디서 어떻게 쓰는지 예시를 설명해주세요"
      ]
    },
    {
      "cell_type": "markdown",
      "metadata": {
        "id": "hy9dkyRgjP8z"
      },
      "source": [
        "10. 테일러 전개를 어떻게 쓰는지 설명해주세요. 뭔지도 설명이 필요하다면 해주세요."
      ]
    },
    {
      "cell_type": "markdown",
      "metadata": {
        "id": "Rro9NvI178LL"
      },
      "source": [
        "##0. a- 10m의 경로를 따라 1초 이동했습니다. 이를 1초당 거리를 계산할때 식은 얼마인가요? b- 10m를 1초씩 이동하다가 2초가 지난후에 14m를 1초에 이동할 수 있게 되었습니다. 가속 할 때 속도는 시간이 지남에 따라 변합니다. 이에 대한 변화를 구해보세요. 그리고 이를 어떤 수학적 용어로 부를 수 있을지 스스로 정의 내려보세요."
      ]
    },
    {
      "cell_type": "markdown",
      "metadata": {
        "id": "Wo7n5nWiUgls"
      },
      "source": [
        "##1. f(x) = x^n , n ∈ N 일때 주어진 함수를 미분해 보세요."
      ]
    },
    {
      "cell_type": "markdown",
      "metadata": {
        "id": "lTHqYCU8dlQj"
      },
      "source": [
        "##2.f(x, y) = (x + 2y^3)^2 x로 편미분 해보세요"
      ]
    },
    {
      "cell_type": "markdown",
      "metadata": {
        "id": "fbdG4e2aaE4N"
      },
      "source": [
        "## 3.x 좌표위의 밑변을 가진 삼각형이 있고 x>a라고할때 이 두 점 x,a를 밑변으로 가진 삼각형의 크기는? 단, x,a와 미분을 사용하여 풀어보기\n",
        "\n",
        "\n",
        "\n"
      ]
    },
    {
      "cell_type": "markdown",
      "metadata": {
        "id": "zr4A6jqseuMO"
      },
      "source": [
        "풀어써라 - 편미분 편"
      ]
    },
    {
      "cell_type": "markdown",
      "metadata": {
        "id": "5fvVSz5Eenor"
      },
      "source": [
        "## 4. Product rule: ∂/∂x(f(x)g(x))\n"
      ]
    },
    {
      "cell_type": "markdown",
      "metadata": {
        "id": "YadXMImWewFP"
      },
      "source": [
        "##5. Sum rule: ∂/∂x(f(x)+g(x))"
      ]
    },
    {
      "cell_type": "markdown",
      "metadata": {
        "id": "kDTZ5S_ufRLv"
      },
      "source": [
        "## 6. Chain rule: ∂/∂x(g ◦ f)(x) "
      ]
    },
    {
      "cell_type": "markdown",
      "metadata": {
        "id": "icywXAPW4psK"
      },
      "source": [
        "##7. f(x) = sin(x)x^2 에서 f(x)를 미분해보세요"
      ]
    },
    {
      "cell_type": "markdown",
      "metadata": {
        "id": "2mANLl-Tg15C"
      },
      "source": [
        ">Integral"
      ]
    },
    {
      "cell_type": "markdown",
      "metadata": {
        "id": "dTB4_GOEVeZZ"
      },
      "source": [
        "##0. 적분과 미분의 관계는?"
      ]
    },
    {
      "cell_type": "markdown",
      "metadata": {
        "id": "khvPtM2FTLU-"
      },
      "source": [
        "##1. 왜 어떤 함수 f(x)의 부정적분은 무수히 많을까요?"
      ]
    },
    {
      "cell_type": "markdown",
      "metadata": {
        "id": "VP93m9LMVV1X"
      },
      "source": [
        "##2. 부정적분 (Indefinite integral)에서 C가 그래프적으로 갖는 의미? "
      ]
    },
    {
      "cell_type": "markdown",
      "metadata": {
        "id": "a8YSHqCvXWFu"
      },
      "source": [
        "## 3. 부정적분과 정적분의 차이는? "
      ]
    },
    {
      "cell_type": "markdown",
      "metadata": {
        "id": "y74UlWrIgR5f"
      },
      "source": [
        "##4. 정적분을 미분의 방식으로 표현이 가능한가?"
      ]
    },
    {
      "cell_type": "markdown",
      "metadata": {
        "id": "Cpc1ZbAKhDCB"
      },
      "source": [
        "##5. 수치적분의 정의?"
      ]
    },
    {
      "cell_type": "markdown",
      "metadata": {
        "id": "I5lxX33pRpHy"
      },
      "source": [
        "손으로 적어주세요"
      ]
    },
    {
      "cell_type": "markdown",
      "metadata": {
        "id": "z0ivA1xMTCo6"
      },
      "source": [
        "##1. 도함수 f(x) 적분을 적어주세여"
      ]
    },
    {
      "cell_type": "markdown",
      "metadata": {
        "id": "wqU4ULm7ZKho"
      },
      "source": [
        "##2. t가 지속할때, 두 주어진 함수들의 편미분의 적분을 구해내세요. (앞에짤린건 무시하시고 f(x,y)부터 보시면 됨)\n",
        "\n",
        "![Screen Shot 2021-04-28 at 5.30.28 PM.png](data:image/png;base64,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)"
      ]
    },
    {
      "cell_type": "markdown",
      "metadata": {
        "id": "2K97XL4eejiU"
      },
      "source": [
        "3,4 식을 그려보세여"
      ]
    },
    {
      "cell_type": "markdown",
      "metadata": {
        "id": "p6NmXyA2ZTO4"
      },
      "source": [
        "##3.\n",
        "\n",
        "a. 𝑓(𝑥,𝑦)가 함수 𝐹3(𝑥,𝑦)를 𝑥로 한번 편미분한 후 𝑦로 다시 편미분하여 나온 이차 도함수라고 하자. 이 도함수를 식으로 나타내봐라.\n",
        "\n",
        "b. 위의 이차 도함수에서 원래의 함수를 찾으려면 어떤과정을 거쳐야하는지 설명해봐라."
      ]
    },
    {
      "cell_type": "markdown",
      "metadata": {
        "id": "xAZqXgeSeeMM"
      },
      "source": [
        "##4.\n",
        "\n",
        "![Screen Shot 2021-04-28 at 5.55.30 PM.png](data:image/png;base64,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)\n",
        "\n",
        "=?"
      ]
    },
    {
      "cell_type": "markdown",
      "metadata": {
        "id": "eWSUEgVlhZE6"
      },
      "source": [
        "##5.다변수 정적분: x가 a부터 b까지가고 y가 c부터 d까지 갈 떄, 다변수의 정적분을 식으로 나타내봐라."
      ]
    },
    {
      "cell_type": "markdown",
      "metadata": {
        "id": "ZAII2RZgiCKK"
      },
      "source": [
        "## 6. 다차원 함수의 단일 정적분을 위의 식의 x기준으로 나타내봐라."
      ]
    },
    {
      "cell_type": "markdown",
      "metadata": {
        "id": "4Wa1LagIiYrc"
      },
      "source": [
        ">행렬의 미분"
      ]
    },
    {
      "cell_type": "markdown",
      "metadata": {
        "id": "ZcUDg6zZieWF"
      },
      "source": [
        "##1.여러개의 입력을 가지는 다변수 함수는 함수의 독립변수가 벡터인 경우로 볼 수 있다.라는 말의 의미를 설명?"
      ]
    },
    {
      "cell_type": "markdown",
      "metadata": {
        "id": "h4HPB8L8jJTR"
      },
      "source": [
        "##2.위의 의미를 반영해, 행렬을 인풋으로 가질 수 있는 근거는?"
      ]
    },
    {
      "cell_type": "markdown",
      "metadata": {
        "id": "GifbKqtdjdG3"
      },
      "source": [
        "##3. 행렬미분의 정의?"
      ]
    },
    {
      "cell_type": "markdown",
      "metadata": {
        "id": "GdxPYXJWnVWT"
      },
      "source": [
        "##4. x(x,y) = x제곱 + y제곱 일때 f(x,y)의 gradient? 가능하다면 벡터장에 gradient를 그려보세요. 이 그래프의 경사면은 어떨때 가장 가파른가요?\n"
      ]
    },
    {
      "cell_type": "markdown",
      "metadata": {
        "id": "Dnd7kv55y7mQ"
      },
      "source": [
        "5-10\n",
        "\n",
        "6-10는 5의 도표 식을 기반으로 풀어써주세요. 예시: 5번 도표에는, 스칼라 x 스칼라 : ∂y/∂x(이런식으로 도함수를 행 : 스칼라, 벡터, 행렬 & 열 : 스칼라, 벡터, 행렬로 이뤄진 테이블에 적어주세요), ∂y/∂x=? (6,7은 이걸 하나 하나씩 함수들을 풀어써주세요 )"
      ]
    },
    {
      "cell_type": "markdown",
      "metadata": {
        "id": "3JTSbBJQyBuj"
      },
      "source": [
        "##5. 스칼라를 스칼라로 미분하는 경우, 벡터를 벡터로 미분하는 경우 등 다양한 경우의 스칼라, 벡터, 행렬간의 미분을 테이블로 나타내주세요."
      ]
    },
    {
      "cell_type": "markdown",
      "metadata": {
        "id": "l5O9tJMOywgH"
      },
      "source": [
        "##6. 스칼라함수를 벡터로 미분?\n"
      ]
    },
    {
      "cell_type": "markdown",
      "metadata": {
        "id": "3c5y5-s_y4rb"
      },
      "source": [
        "##7. 벡터를 스칼라로 미분"
      ]
    },
    {
      "cell_type": "markdown",
      "metadata": {
        "id": "1oQfdeRNz8oO"
      },
      "source": [
        "## 8. 스칼라 함수를 행렬로 미분\n",
        "## 9. 행렬을 스칼라로 미분\n",
        "## 10. 벡터를 벡터로 미분\n"
      ]
    },
    {
      "cell_type": "markdown",
      "metadata": {
        "id": "u4-i1DF206SH"
      },
      "source": [
        "##11. 두 정방행렬을 곱해서 만들어진 행렬의 대각성분(trace)는 스칼라이다. 이 스칼라를 뒤의 행렬로 미분하면?"
      ]
    },
    {
      "cell_type": "markdown",
      "metadata": {
        "id": "apyQaTbm1O3S"
      },
      "source": [
        "##12. 행렬미분법칙 5: 행렬식의 로그¶\n",
        "행렬식(determinant)은 스칼라값이고 이 값의 로그 값도 스칼라이다. 이 값을 원래의 행렬로 미분하면 원래 행렬의 역행렬의 전치 행렬이 된다. 이 말은 무엇이고 식으로 정리하면 어떻게 될까요? 식을 정리해서 보여주세요."
      ]
    }
  ]
}