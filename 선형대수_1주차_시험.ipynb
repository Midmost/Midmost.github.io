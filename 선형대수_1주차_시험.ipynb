{
  "nbformat": 4,
  "nbformat_minor": 0,
  "metadata": {
    "colab": {
      "name": "선형대수 1주차 시험.ipynb",
      "private_outputs": true,
      "provenance": [],
      "collapsed_sections": [
        "Y1Q9KrC_e1KK",
        "SXeQ94qQhCf4",
        "UEXGIYjvkZaZ",
        "0tzRFm-Ro7m9",
        "mL5Qjpe8rFzh"
      ],
      "authorship_tag": "ABX9TyPL6o5JF0LuYxri0bSWba5A",
      "include_colab_link": true
    },
    "kernelspec": {
      "name": "python3",
      "display_name": "Python 3"
    },
    "language_info": {
      "name": "python"
    }
  },
  "cells": [
    {
      "cell_type": "markdown",
      "metadata": {
        "id": "view-in-github",
        "colab_type": "text"
      },
      "source": [
        "<a href=\"https://colab.research.google.com/github/Midmost/Midmost.github.io/blob/main/%EC%84%A0%ED%98%95%EB%8C%80%EC%88%98_1%EC%A3%BC%EC%B0%A8_%EC%8B%9C%ED%97%98.ipynb\" target=\"_parent\"><img src=\"https://colab.research.google.com/assets/colab-badge.svg\" alt=\"Open In Colab\"/></a>"
      ]
    },
    {
      "cell_type": "markdown",
      "metadata": {
        "id": "Y1Q9KrC_e1KK"
      },
      "source": [
        "# 수열과 집합의 합과 곱"
      ]
    },
    {
      "cell_type": "markdown",
      "metadata": {
        "id": "-L-g6KW9nbi1"
      },
      "source": [
        "1. 수열과 집합의 차이 \n",
        "\n",
        "의미:\n",
        "\n",
        "기호: \n"
      ]
    },
    {
      "cell_type": "markdown",
      "metadata": {
        "id": "gLVhOJ8YgqCE"
      },
      "source": [
        "2. 카테고리 분포의 추정에서 사용될 \n",
        "\n",
        "(1.2.22) 에 있는 문제를 손으로 풀어서 이미지를 올려주세요\n",
        "\n"
      ]
    },
    {
      "cell_type": "markdown",
      "metadata": {
        "id": "t9OYgsbDgsSz"
      },
      "source": [
        "3. 수열 합 & 곱의 성질 \n",
        "\n",
        "스칼라:\n",
        "\n",
        "교환법칙:\n",
        "\n",
        "결합법칙:"
      ]
    },
    {
      "cell_type": "markdown",
      "metadata": {
        "id": "_SZVHVKAgzMd"
      },
      "source": [
        "집합의 합 & 곱 이란?"
      ]
    },
    {
      "cell_type": "markdown",
      "metadata": {
        "id": "k3QUwd89g4bc"
      },
      "source": [
        "4. **1.2.4 설명 가능? 어떤 거를 묻는거고 어떻게 이 문제를 접근해야 하는지**\n"
      ]
    },
    {
      "cell_type": "markdown",
      "metadata": {
        "id": "ZMfujkYEnZNk"
      },
      "source": [
        ""
      ]
    },
    {
      "cell_type": "markdown",
      "metadata": {
        "id": "SXeQ94qQhCf4"
      },
      "source": [
        "# 2.1 데이터와 행렬"
      ]
    },
    {
      "cell_type": "markdown",
      "metadata": {
        "id": "HQ2XyayihO_X"
      },
      "source": [
        "### 벡터\n"
      ]
    },
    {
      "cell_type": "markdown",
      "metadata": {
        "id": "hI-2U-1xhWPH"
      },
      "source": [
        "1. feature vector가 의미하는 바"
      ]
    },
    {
      "cell_type": "markdown",
      "metadata": {
        "id": "1Trj9NQYhc3J"
      },
      "source": [
        "2. 벡터와 배열의 차원\n",
        "\n",
        "벡터: \n",
        "\n",
        "배열:\n",
        "\n"
      ]
    },
    {
      "cell_type": "markdown",
      "metadata": {
        "id": "CdvB2S66gtf9"
      },
      "source": [
        "3. 64크기의 1차원 벡터란 뜻은?"
      ]
    },
    {
      "cell_type": "markdown",
      "metadata": {
        "id": "rvGL9AOqh6kV"
      },
      "source": [
        "4. 벡터의 내적을 아는대로 구체적으로 기술하시오."
      ]
    },
    {
      "cell_type": "markdown",
      "metadata": {
        "id": "sboRlLhVhqUV"
      },
      "source": [
        "### 행렬"
      ]
    },
    {
      "cell_type": "markdown",
      "metadata": {
        "id": "KoamIN3uhr69"
      },
      "source": [
        "1. 수학기호로 표현가능?\n"
      ]
    },
    {
      "cell_type": "markdown",
      "metadata": {
        "id": "uxErklH0h1kT"
      },
      "source": [
        "2. [1,2],[3,4],[5,6] 로 이루어진 행렬A의 전치행렬을 넘파이로 구현하고 A를 다시 내적하시오. \n",
        "왜 이게 가능한지 설명가능? "
      ]
    },
    {
      "cell_type": "code",
      "metadata": {
        "id": "WjK0JvrcjGzg"
      },
      "source": [
        "# [1,2],[3,4],[5,6] 를 이용한 행렬을 여기에 구현하고 위 문제를 써주세요. \n",
        "\n"
      ],
      "execution_count": null,
      "outputs": []
    },
    {
      "cell_type": "markdown",
      "metadata": {
        "id": "qTQDP__KjSf8"
      },
      "source": [
        "3. 벡터와 행렬의 관계를 설명할 수 있는지 (시각화 가능?)"
      ]
    },
    {
      "cell_type": "markdown",
      "metadata": {
        "id": "dHW8Qld6jWiE"
      },
      "source": [
        "4. 모든 벡터는 기본적으로 열벡터라는 말이 왜 나왔는지 설명가능?"
      ]
    },
    {
      "cell_type": "markdown",
      "metadata": {
        "id": "MDI-WKdBjexD"
      },
      "source": [
        "### 행렬(특수)"
      ]
    },
    {
      "cell_type": "code",
      "metadata": {
        "id": "TIZqpsz0jm_p"
      },
      "source": [
        "# 0으로만 이루어진 행렬을 넘파이로 구현하려면?\n",
        "\n"
      ],
      "execution_count": null,
      "outputs": []
    },
    {
      "cell_type": "code",
      "metadata": {
        "id": "upato-j4jwY3"
      },
      "source": [
        "# 1으로만 이루어진 행렬을 넘파이로 구현하려면?\n",
        "\n"
      ],
      "execution_count": null,
      "outputs": []
    },
    {
      "cell_type": "code",
      "metadata": {
        "id": "A9tmPUNgjzqf"
      },
      "source": [
        "# 대각 행렬을 넘파이로 구현하려면?\n",
        "\n"
      ],
      "execution_count": null,
      "outputs": []
    },
    {
      "cell_type": "code",
      "metadata": {
        "id": "7Tg4mWbtj3Ec"
      },
      "source": [
        "# 단위 행렬을 넘파이로 구현하려면? (두가지 방법)\n",
        "\n"
      ],
      "execution_count": null,
      "outputs": []
    },
    {
      "cell_type": "code",
      "metadata": {
        "id": "0avWOs-ekCtw"
      },
      "source": [
        "# 어떤 행렬의 전치 행렬이 그 자신과 같다면 어떤 행렬인가?\n",
        "\n"
      ],
      "execution_count": null,
      "outputs": []
    },
    {
      "cell_type": "markdown",
      "metadata": {
        "id": "UEXGIYjvkZaZ"
      },
      "source": [
        "# 2.2 벡터와 행렬의 연산"
      ]
    },
    {
      "cell_type": "markdown",
      "metadata": {
        "id": "t6VZED31kxhr"
      },
      "source": [
        "1. element-wise 설명가능?"
      ]
    },
    {
      "cell_type": "markdown",
      "metadata": {
        "id": "Wsl4S0q6k5Bg"
      },
      "source": [
        "2. broad casting 설명가능?"
      ]
    },
    {
      "cell_type": "markdown",
      "metadata": {
        "id": "5oXrRqNmk8u3"
      },
      "source": [
        "3. linear combination 설명가능? 정확히 언제 쓰이는지\n"
      ]
    },
    {
      "cell_type": "markdown",
      "metadata": {
        "id": "iQ_v-dOKlEL9"
      },
      "source": [
        "4. weight sum이란? 어떻게 쓰이고 무엇의 예시였나?"
      ]
    },
    {
      "cell_type": "markdown",
      "metadata": {
        "id": "w8yfdA56lIgd"
      },
      "source": [
        "5. similarity 설명가능?"
      ]
    },
    {
      "cell_type": "markdown",
      "metadata": {
        "id": "VlI_mtWzlM-e"
      },
      "source": [
        "6. linear regression model \n",
        "\n",
        "수식: \n",
        "\n",
        "기호: "
      ]
    },
    {
      "cell_type": "markdown",
      "metadata": {
        "id": "R0DwHqKglSA7"
      },
      "source": [
        "7. Dot product (위에서도 나왔었음)"
      ]
    },
    {
      "cell_type": "markdown",
      "metadata": {
        "id": "qPZuKWMhlV7s"
      },
      "source": [
        "8. zero-mean vector 그리고 sum of square "
      ]
    },
    {
      "cell_type": "markdown",
      "metadata": {
        "id": "Env0hTjYlcrB"
      },
      "source": [
        "9. C = AB  ->  $ C_{ij} = a_i^Tb_j $ 를 설명하시오"
      ]
    },
    {
      "cell_type": "markdown",
      "metadata": {
        "id": "8fZsSuIEmkl0"
      },
      "source": [
        "10. 이차형식을 설명할 수 있는가?"
      ]
    },
    {
      "cell_type": "markdown",
      "metadata": {
        "id": "xqh08H-CndtR"
      },
      "source": [
        "# 2.3 행렬의 성질\n"
      ]
    },
    {
      "cell_type": "markdown",
      "metadata": {
        "id": "5pjJP4k6nuIy"
      },
      "source": [
        "1. 행렬의 부호와 크기를 증명가능?"
      ]
    },
    {
      "cell_type": "markdown",
      "metadata": {
        "id": "j3hmwk4Ln1WK"
      },
      "source": [
        "2. 행렬 ([2,1],[3,2]) 의 부호와 크기를 구하라 (단, 크기는 $ ||A||_F $ 로 구한다)\n",
        "\n",
        "이미지: (여기에 손으로 푼 거를 찍어서 사진을 올려주세요, 란 뜻 )\n",
        "\n",
        "넘파이: (ctrl(command) + m + b 를 누르면 코드셀이 생깁니다. 거기에 답을 작성해주세요, 란 뜻 )"
      ]
    },
    {
      "cell_type": "markdown",
      "metadata": {
        "id": "AwjA-pZjofPh"
      },
      "source": [
        "3. 대각합의 성질 (교환법칙 등, 기본 행렬과 다른 점) 5개 설명가능?"
      ]
    },
    {
      "cell_type": "markdown",
      "metadata": {
        "id": "yFeREf83oomh"
      },
      "source": [
        "4. $ i_0 $ 이 뜻하는 바, $ (-i)^{i+j_0} $ 의 뜻 (실제 행렬로)\n",
        "\n",
        "이미지: "
      ]
    },
    {
      "cell_type": "markdown",
      "metadata": {
        "id": "0tzRFm-Ro7m9"
      },
      "source": [
        "# *보충이 필요한 부분\n"
      ]
    },
    {
      "cell_type": "markdown",
      "metadata": {
        "id": "dnspaD8otVRN"
      },
      "source": [
        "\n",
        "1. 인공신경망 이미지\n",
        "![](https://heung-bae-lee.github.io/image/shallowNN_and_regression_algorithm.png)\n"
      ]
    },
    {
      "cell_type": "markdown",
      "metadata": {
        "id": "uNB0CpJ2qo_x"
      },
      "source": [
        "2. 선형조합"
      ]
    },
    {
      "cell_type": "markdown",
      "metadata": {
        "id": "W-ajtoUpqq30"
      },
      "source": [
        "3. 벡터, 배열, 행렬 이 셋의 차이와 관계"
      ]
    },
    {
      "cell_type": "markdown",
      "metadata": {
        "id": "SxYbCkdRqv9H"
      },
      "source": [
        "4. 잔차제곱합\n",
        "\n",
        "통계적 관점:\n",
        "\n",
        "수리적 관점:"
      ]
    },
    {
      "cell_type": "markdown",
      "metadata": {
        "id": "RdKpQh1Iq4Bf"
      },
      "source": [
        "5. 가중합"
      ]
    },
    {
      "cell_type": "markdown",
      "metadata": {
        "id": "BZk1kAGXq9Kr"
      },
      "source": [
        "6.  $ X^TAX $ 가 뜻하는 바 "
      ]
    },
    {
      "cell_type": "markdown",
      "metadata": {
        "id": "mL5Qjpe8rFzh"
      },
      "source": [
        "# 2.4 선형 연립방정식과 역행렬\n"
      ]
    },
    {
      "cell_type": "markdown",
      "metadata": {
        "id": "cX4d7W0DrWqI"
      },
      "source": [
        "1. 유사도가 높은 가중치 벡터가 갖고 싶다! 어떻게 구하지? 어떤 수학적 접근이 필요하지?"
      ]
    },
    {
      "cell_type": "markdown",
      "metadata": {
        "id": "VBPQeviZrcjl"
      },
      "source": [
        "2. 역행렬의 성질 & 역행렬의 계산 (3가지 + cofactor) 설명 가능?"
      ]
    },
    {
      "cell_type": "markdown",
      "metadata": {
        "id": "lI961nNfrkF5"
      },
      "source": [
        "3. 역행렬과 lstsq, 연습문제 2.4.5\n",
        "\n",
        "넘파이: "
      ]
    },
    {
      "cell_type": "markdown",
      "metadata": {
        "id": "SCXinr72r1G6"
      },
      "source": [
        "4. x의 수와 equation의 수가 같지 아니할 때 ((N = M)외에 두 가지 경우의 수)\n",
        "어떻게 접근이 가능한지, 이 말이 이해가 가고 설명가능한지 (아래 5번과 6번이 설명가능해야 이 문제개념 이해가능) "
      ]
    },
    {
      "cell_type": "markdown",
      "metadata": {
        "id": "Ok5t3z9_sR72"
      },
      "source": [
        "5. 계수행렬이란?"
      ]
    },
    {
      "cell_type": "markdown",
      "metadata": {
        "id": "Z9pbq4cHsT4U"
      },
      "source": [
        "6. residual 이란?"
      ]
    },
    {
      "cell_type": "markdown",
      "metadata": {
        "id": "yV-W7ra8sXi7"
      },
      "source": [
        "$ arg min_x f(x) $ 란?"
      ]
    },
    {
      "cell_type": "markdown",
      "metadata": {
        "id": "8vZ7wHtSsrs2"
      },
      "source": [
        "7. $ A^TA$ 는 항상 ** 이 된다. 그 때 lsp의 답을 구하는 사고흐름은? "
      ]
    },
    {
      "cell_type": "markdown",
      "metadata": {
        "id": "VeY6Ru3bs0fg"
      },
      "source": [
        "8. $ A^TAx 와 A^Tb의 벡터가 같다는 뜻은? (이번 챕터 세부내용을 알아야 풀 수 있음)"
      ]
    },
    {
      "cell_type": "markdown",
      "metadata": {
        "id": "F89opoDZtDMX"
      },
      "source": [
        "9. pseudo inverse 를 설명해주세요. (연습문제 2.4.6) "
      ]
    }
  ]
}