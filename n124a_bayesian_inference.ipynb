{
  "nbformat": 4,
  "nbformat_minor": 0,
  "metadata": {
    "colab": {
      "name": "n124a_bayesian_inference.ipynb",
      "provenance": [],
      "collapsed_sections": [],
      "include_colab_link": true
    },
    "kernelspec": {
      "display_name": "Python 3",
      "language": "python",
      "name": "python3"
    },
    "language_info": {
      "codemirror_mode": {
        "name": "ipython",
        "version": 3
      },
      "file_extension": ".py",
      "mimetype": "text/x-python",
      "name": "python",
      "nbconvert_exporter": "python",
      "pygments_lexer": "ipython3",
      "version": "3.8.5"
    }
  },
  "cells": [
    {
      "cell_type": "markdown",
      "metadata": {
        "id": "view-in-github",
        "colab_type": "text"
      },
      "source": [
        "<a href=\"https://colab.research.google.com/github/Midmost/Midmost.github.io/blob/main/n124a_bayesian_inference.ipynb\" target=\"_parent\"><img src=\"https://colab.research.google.com/assets/colab-badge.svg\" alt=\"Open In Colab\"/></a>"
      ]
    },
    {
      "cell_type": "markdown",
      "metadata": {
        "id": "H7OLbevlbd_Z"
      },
      "source": [
        "<img src='https://i.imgur.com/RDAD11M.png' width = '200' align = 'right'>\n",
        "\n",
        "## *DATA SCIENCE / SECTION 1 / SPRINT 2 / NOTE 4*\n",
        "\n",
        "# 📝 Assignment\n",
        "\n",
        "# 베이지안 통계"
      ]
    },
    {
      "cell_type": "markdown",
      "metadata": {
        "id": "lPwZPpad3UOc"
      },
      "source": [
        "## 1. Multiple Choice Test\n",
        "\n",
        "객관식 문제를 푸는 과정에서, 학생은 답을 이미 알고 있거나 찍어야 합니다. \n",
        "\n",
        "학생이 답을 알 확률은 $p$이고, 답을 찍어서 맞출 확률이 $1\\over{m}$ 이라고 할 때 $m$과 $p$를 입력받아 학생이 문제의 답을 알고 맞췄을 확률을 계산하는 함수를 작성하세요."
      ]
    },
    {
      "cell_type": "code",
      "metadata": {
        "id": "oUDpcbh5EocQ"
      },
      "source": [
        "# import matplotlib.pyplot as plt\n",
        "# import numpy as np\n",
        "# from math import *\n",
        "# n=100000\n",
        "\n",
        "# samples =  [1000, 10000, 20000, 50000, 80000, 100000]\n",
        "\n",
        "# def correct(n):\n",
        "#     choix_joueur = np.random.randint(p,m)\n",
        "#     bonne_porte = np.random.randint(p,m)\n",
        "#     garder = bonne_porte[bonne_porte == choix_joueur]\n",
        "#     changer = bonne_porte[choix_joueur != bonne_porte]\n",
        "    \n",
        "#     return [garder.size, changer.size]"
      ],
      "execution_count": null,
      "outputs": []
    },
    {
      "cell_type": "markdown",
      "metadata": {
        "id": "vfrMLtlHKxA2"
      },
      "source": [
        "\n",
        "머릿속으로 면적의 넓이가 1인 사각형을 생각하고\n",
        "4분할을 해보자. \n",
        "\n",
        "변수는 아래와 같이 총 4개가 성립\n",
        "1. 답을 맞았다 = q\n",
        "2. 답을 틀렸다 = 1-q\n",
        "3. 답을 알고있다 = p\n",
        "4. 답을 찍었다 = 1-p\n",
        "----------------------\n",
        "1. 답을 찍어서 맞췄다 1/m = (1-p)*q\n",
        "2. 답을 알고서 맞췄다 p*q\n",
        "3. 답을 찍어서 틀렸다 (1-P)*(1-q)\n",
        "4. 답을 알고서 틀렸다(?) p*(1-q)\n",
        "---------------------\n",
        "\n",
        "1. 답을 맞췄는데 알고 있다 \n",
        "\n",
        "여기서 알고 싶은 값은 알고서 맞췄다(맞췄는데 알고 있는 경우라고 사실 봐야했음)\n",
        "want P(H|E) = P(답알|답맞)\n",
        "know P(E|H) = P(답맞|답알)\n",
        "\n",
        "이렇게 되는 거 아닌가요?? 근데 문제에서 묻는건 답을 '알고서' 맞추는거 아닌가요..?\n",
        "그러면 know가 저렇게 되면 안되고 want가 답맞|답알이 되어야 할 거 같은데...\n"
      ]
    },
    {
      "cell_type": "code",
      "metadata": {
        "id": "LsCqTu1CGbfq",
        "colab": {
          "base_uri": "https://localhost:8080/",
          "height": 317
        },
        "outputId": "5e3fe9c4-363e-4697-a36e-b7815db876a4"
      },
      "source": [
        "def correct(p, m):\n",
        "  Known = p\n",
        "  unknown= 1-p\n",
        "  known_and_success = 1 # 이게 왜 1이어야 되는건지...\n",
        "  unknown_but_success = 1/m\n",
        "\n",
        "  # known_and_success = (known_but_fail*unknown_but_success) /(known_but_fail*unknown_but_success) + (unknown_and_fail*unknown_but_success)\n",
        "\n",
        "  denominator = (known_and_success * known) + (unknown_but_success*unknown)  # 분모\n",
        "  numerator = (known_and_success* known)  #분자\n",
        "\n",
        "\n",
        "  posterior_probability = numerator/denominator\n",
        "\n",
        "  return posterior_probability \n",
        "\n",
        "round(correct(0.5, 5),4)\n",
        "\n",
        "\n",
        "# NameError: name 'known' is not defined \n",
        "# 이 에러가 대체 왜 뜨는지 모르겠습니다. "
      ],
      "execution_count": null,
      "outputs": [
        {
          "output_type": "error",
          "ename": "NameError",
          "evalue": "ignored",
          "traceback": [
            "\u001b[0;31m---------------------------------------------------------------------------\u001b[0m",
            "\u001b[0;31mNameError\u001b[0m                                 Traceback (most recent call last)",
            "\u001b[0;32m<ipython-input-14-11717d8a9d34>\u001b[0m in \u001b[0;36m<module>\u001b[0;34m()\u001b[0m\n\u001b[1;32m     15\u001b[0m   \u001b[0;32mreturn\u001b[0m \u001b[0mposterior_probability\u001b[0m\u001b[0;34m\u001b[0m\u001b[0;34m\u001b[0m\u001b[0m\n\u001b[1;32m     16\u001b[0m \u001b[0;34m\u001b[0m\u001b[0m\n\u001b[0;32m---> 17\u001b[0;31m \u001b[0mround\u001b[0m\u001b[0;34m(\u001b[0m\u001b[0mcorrect\u001b[0m\u001b[0;34m(\u001b[0m\u001b[0;36m0.5\u001b[0m\u001b[0;34m,\u001b[0m \u001b[0;36m5\u001b[0m\u001b[0;34m)\u001b[0m\u001b[0;34m,\u001b[0m\u001b[0;36m4\u001b[0m\u001b[0;34m)\u001b[0m\u001b[0;34m\u001b[0m\u001b[0;34m\u001b[0m\u001b[0m\n\u001b[0m",
            "\u001b[0;32m<ipython-input-14-11717d8a9d34>\u001b[0m in \u001b[0;36mcorrect\u001b[0;34m(p, m)\u001b[0m\n\u001b[1;32m      7\u001b[0m   \u001b[0;31m# known_and_success = (known_but_fail*unknown_but_success) /(known_but_fail*unknown_but_success) + (unknown_and_fail*unknown_but_success)\u001b[0m\u001b[0;34m\u001b[0m\u001b[0;34m\u001b[0m\u001b[0;34m\u001b[0m\u001b[0m\n\u001b[1;32m      8\u001b[0m \u001b[0;34m\u001b[0m\u001b[0m\n\u001b[0;32m----> 9\u001b[0;31m   \u001b[0mdenominator\u001b[0m \u001b[0;34m=\u001b[0m \u001b[0;34m(\u001b[0m\u001b[0mknown_and_success\u001b[0m \u001b[0;34m*\u001b[0m \u001b[0mknown\u001b[0m\u001b[0;34m)\u001b[0m \u001b[0;34m+\u001b[0m \u001b[0;34m(\u001b[0m\u001b[0munknown_but_success\u001b[0m\u001b[0;34m*\u001b[0m\u001b[0munknown\u001b[0m\u001b[0;34m)\u001b[0m  \u001b[0;31m# 분모\u001b[0m\u001b[0;34m\u001b[0m\u001b[0;34m\u001b[0m\u001b[0m\n\u001b[0m\u001b[1;32m     10\u001b[0m   \u001b[0mnumerator\u001b[0m \u001b[0;34m=\u001b[0m \u001b[0;34m(\u001b[0m\u001b[0mknown_and_success\u001b[0m\u001b[0;34m*\u001b[0m \u001b[0mknown\u001b[0m\u001b[0;34m)\u001b[0m  \u001b[0;31m#분자\u001b[0m\u001b[0;34m\u001b[0m\u001b[0;34m\u001b[0m\u001b[0m\n\u001b[1;32m     11\u001b[0m \u001b[0;34m\u001b[0m\u001b[0m\n",
            "\u001b[0;31mNameError\u001b[0m: name 'known' is not defined"
          ]
        }
      ]
    },
    {
      "cell_type": "code",
      "metadata": {
        "colab": {
          "base_uri": "https://localhost:8080/"
        },
        "id": "SNnLrFuQ-3ya",
        "outputId": "373e1b4b-52cc-47c6-c59c-56b53d8c9563"
      },
      "source": [
        "def correct(p, m):\n",
        "  known = p\n",
        "  unknown = 1-p\n",
        "  known_correct = 1\n",
        "  unknown_correct = 1/m\n",
        "\n",
        "  denominator = (known_correct * known) + (unknown_correct*unknown)\n",
        "  numerator = (known_correct* known)\n",
        "  posterior_probability = numerator/denominator\n",
        "\n",
        "  return posterior_probability "
      ],
      "execution_count": null,
      "outputs": [
        {
          "output_type": "execute_result",
          "data": {
            "text/plain": [
              "0.8333"
            ]
          },
          "metadata": {
            "tags": []
          },
          "execution_count": 15
        }
      ]
    },
    {
      "cell_type": "code",
      "metadata": {
        "colab": {
          "base_uri": "https://localhost:8080/"
        },
        "id": "f1JtK6oN4Ves",
        "outputId": "7b47ba80-0d0c-434e-c194-74ea98e128fa"
      },
      "source": [
        "# calculate P(A|B) given P(B|A), P(A) and P(B)\n",
        "def bayes_theorem(p_a, p_b, p_b_given_a):\n",
        "\t# calculate P(A|B) = P(B|A) * P(A) / P(B)\n",
        "\tp_a_given_b = (p_b_given_a * p_a) / p_b\n",
        "\treturn p_a_given_b\n",
        " \n",
        "# P(A)\n",
        "p_a = 0.10\n",
        "# P(B)\n",
        "p_b = 0.05\n",
        "# P(B|A)\n",
        "p_b_given_a = 0.07\n",
        "# calculate P(A|B)\n",
        "result = bayes_theorem(p_a, p_b, p_b_given_a)\n",
        "# summarize\n",
        "print('P(A|B) = %.3f%%' % (result * 100))"
      ],
      "execution_count": null,
      "outputs": [
        {
          "output_type": "stream",
          "text": [
            "P(A|B) = 14.000%\n"
          ],
          "name": "stdout"
        }
      ]
    },
    {
      "cell_type": "markdown",
      "metadata": {
        "id": "vV_0t8RYEDdd"
      },
      "source": [
        "## 2. Blood Test\n",
        "\n",
        "특정 질병을 가지고 있는 경우 **99%**의 확률로 탐지 할 수 있는 실험방법이 있습니다.\n",
        "\n",
        "그러나 동시에 이 방법은, **1%**의 확률로 질병이 없지만 질병이 있다고 진단 하는 경우도 있는데요.\n",
        "\n",
        "실제로 모든 인구중 **0.5%** 만이 이 질병을 가지고 있다고 하겠습니다.\n",
        "\n",
        "특정 사람이 이 방법을 통해 질병이 있다고 진단 받았을때, 실제로 질병을 가지고 있을 확률을 구하는 함수를 작성하세요."
      ]
    },
    {
      "cell_type": "code",
      "metadata": {
        "id": "9q6H1lbMQR1U",
        "colab": {
          "base_uri": "https://localhost:8080/"
        },
        "outputId": "5c90b5f6-91d6-476c-8c60-fe348a5a889f"
      },
      "source": [
        "# 베이지안 계산을 위해서는 4개의 변수가 필요합니다.\n",
        "\n",
        "p_pos_used = 0.99 # True positive rate (TPR, Sensitivity)\n",
        "p_used = 0.005 # prior probability\n",
        "p_pos_not_used = 0.01 # False positive rate (FPR)\n",
        "p_not_used = 1 - p_used # 1 - p_used  \n",
        "\n",
        "numerator = p_pos_used * p_used \n",
        "\n",
        "denominator = (p_pos_used * p_used) + (p_pos_not_used * p_not_used)\n",
        "\n",
        "posterior_probability = numerator / denominator\n",
        "\n",
        "posterior_probability"
      ],
      "execution_count": null,
      "outputs": [
        {
          "output_type": "execute_result",
          "data": {
            "text/plain": [
              "0.33221476510067116"
            ]
          },
          "metadata": {
            "tags": []
          },
          "execution_count": 4
        }
      ]
    },
    {
      "cell_type": "code",
      "metadata": {
        "id": "qKYGZ5fkFjQ-"
      },
      "source": [
        "tpr = 0.99 # True positive rate (TPR, Sensitivity)\n",
        "prior = 0.005 # prior probability\n",
        "fpr = 0.01 # False positive rate (FPR)\n",
        "p_not_used = 1 - prior # 1 - p_used  \n",
        "\n",
        "\n",
        "def disease(prior, tpr, fpr):\n",
        "  numerator = tpr * prior \n",
        "  denominator = (tpr * prior) + (fpr * p_not_used)\n",
        "  posterior_probability = numerator / denominator\n",
        "  return (posterior_probability)"
      ],
      "execution_count": null,
      "outputs": []
    },
    {
      "cell_type": "markdown",
      "metadata": {
        "id": "2vw5JHNhyvRh"
      },
      "source": [
        "## Grading\n",
        "이전 과제를 완료했다면, 아래의 코드를 실행하세요."
      ]
    },
    {
      "cell_type": "code",
      "metadata": {
        "id": "rnEj64V6SM0i"
      },
      "source": [
        "# 정민님 디스코드\n",
        "\n",
        "def grade(correct, disease):\n",
        "  score = 0  \n",
        "  score += (round(correct(0.5, 5),4) == 0.8333) \n",
        "  score += (round(disease(0.005, 0.99, 0.01),4) == 0.3322)\n",
        "  return(score)"
      ],
      "execution_count": null,
      "outputs": []
    },
    {
      "cell_type": "markdown",
      "metadata": {
        "id": "GP7Jv1XvwtkX"
      },
      "source": [
        "## 🔥 도전 과제:\n",
        "\n"
      ]
    },
    {
      "cell_type": "markdown",
      "metadata": {
        "id": "jQTrW4QyGoYe"
      },
      "source": [
        "## 아래 내용에 대한 답을 구하세요.\n",
        "\n",
        "At a Certain stage of a criminal investigation, the inspector in charge is 60% convinced of the guild of a certain suspect. \n",
        "\n",
        "Suppose now that a new piece of evidence that shows that the criminal has a `left-handedness` is uncovered. \n",
        "\n",
        "If 20% of population possesses this characteristic, how certain of the guilt of the suspect should the inspector now be if it turns out that the suspect is among this group?\n",
        "\n",
        "After that, the new evidence is subject to different possible interpretations, and in fact only shows that it is 90% likely that the criminal possess this characteristic. in this case how likely would it be that the suspect is guilty?"
      ]
    },
    {
      "cell_type": "code",
      "metadata": {
        "id": "M3WuZEGM3UOd"
      },
      "source": [
        ""
      ],
      "execution_count": null,
      "outputs": []
    }
  ]
}