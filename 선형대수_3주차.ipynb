{
  "nbformat": 4,
  "nbformat_minor": 0,
  "metadata": {
    "colab": {
      "name": "선형대수 3주차.ipynb",
      "private_outputs": true,
      "provenance": [],
      "collapsed_sections": [],
      "authorship_tag": "ABX9TyPcCHKLBZ9foGCcRCvPODtA",
      "include_colab_link": true
    },
    "kernelspec": {
      "name": "python3",
      "display_name": "Python 3"
    },
    "language_info": {
      "name": "python"
    }
  },
  "cells": [
    {
      "cell_type": "markdown",
      "metadata": {
        "id": "view-in-github",
        "colab_type": "text"
      },
      "source": [
        "<a href=\"https://colab.research.google.com/github/Midmost/Midmost.github.io/blob/main/%EC%84%A0%ED%98%95%EB%8C%80%EC%88%98_3%EC%A3%BC%EC%B0%A8.ipynb\" target=\"_parent\"><img src=\"https://colab.research.google.com/assets/colab-badge.svg\" alt=\"Open In Colab\"/></a>"
      ]
    },
    {
      "cell_type": "markdown",
      "metadata": {
        "id": "0NFi-A-Gkddo"
      },
      "source": [
        "# 4.1 함수"
      ]
    },
    {
      "cell_type": "markdown",
      "metadata": {
        "id": "obz9-q5ikQQW"
      },
      "source": [
        "$ 𝑓(𝑥)=𝑥^3−3𝑥^2+𝑥 $ 을 그래프로 그려보시오 (-2 < int(x) < 2) *조건이 이해안가면 말씀해주세요!"
      ]
    },
    {
      "cell_type": "code",
      "metadata": {
        "id": "kIfh5NMRkEw7"
      },
      "source": [
        "import numpy as np\n",
        "\n",
        "# 식을 함수로\n",
        "def f(x):\n",
        "  return x**3 -3 * x**2 + 3\n",
        "\n",
        "# domain 생성\n",
        "x = np.linspace(-2,2,5)\n",
        "\n",
        "# range(공역)을 구해요!\n",
        "y = f(x)\n",
        "\n",
        "# pandas로 테이블을 만들어보야요!\n",
        "import pandas as pd\n",
        "d = {'Domain':x ,'Range': y}\n",
        "table = pd.DataFrame(data=d)\n",
        "print(table.to_string(index=False))\n",
        "# table = table[table.columns[:]].drop([])\n",
        "\n",
        "# matplot\n",
        "import matplotlib.pyplot as plt\n",
        "\n",
        "plt.plot(x, y, 'ro-')\n",
        "plt.xlim(10, 10)\n",
        "plt.title(\"함수 $f(x) = x^3 - 3x^2 + x$의 그래프\")\n",
        "plt.xlabel(\"x\")\n",
        "plt.ylabel(\"y\")\n",
        "plt.xticks(np.arange(-10, 10))\n",
        "plt.yticks(np.arange(-10, 10))\n",
        "plt.show()"
      ],
      "execution_count": null,
      "outputs": []
    },
    {
      "cell_type": "code",
      "metadata": {
        "id": "yX-q1syokqN_"
      },
      "source": [
        "def f(x):\n",
        "    return x**3 - 3 * x**2 + x\n",
        "\n",
        "x = np.linspace(-1, 3, 400)\n",
        "y = f(x)\n",
        "\n",
        "plt.plot(x, y)\n",
        "plt.plot(0, 0, 'ro')\n",
        "plt.plot(x, x, 'r:')          #0에서서의 기울기\n",
        "plt.plot(1, -1, 'go')         \n",
        "plt.plot(x, (3*1**2-6*1+1)*(x-1)-1, 'g--')  #1에서의 기울기\n",
        "\n",
        "plt.xlim(-3.5, 5.5)\n",
        "plt.ylim(-4, 2)\n",
        "# plt.xticks(np.arange(-3, 6))\n",
        "# plt.yticks(np.arange(-4, 2))\n",
        "\n",
        "# plt.annotate('', xy=(1, 0), xytext=(0, 0), arrowprops=dict(facecolor='gray'))\n",
        "# plt.annotate('', xy=(1, 1), xytext=(1, 0), arrowprops=dict(facecolor='gray'))\n",
        "\n",
        "# plt.annotate('', xy=(2, -1), xytext=(1, -1), arrowprops=dict(facecolor='gray'))\n",
        "# plt.annotate('', xy=(2, -3), xytext=(2, -1), arrowprops=dict(facecolor='gray'))\n",
        "\n",
        "plt.xlabel(\"x\")\n",
        "plt.ylabel(\"f(x)\")\n",
        "plt.title(\"함수의 기울기\")\n",
        "plt.show()"
      ],
      "execution_count": null,
      "outputs": []
    },
    {
      "cell_type": "code",
      "metadata": {
        "id": "IySmZqFRsIMB"
      },
      "source": [
        "𝑓(𝑥,𝑦,𝑧)=𝑥𝑦𝑧 이거  미분  "
      ],
      "execution_count": null,
      "outputs": []
    }
  ]
}