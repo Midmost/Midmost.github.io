{
  "nbformat": 4,
  "nbformat_minor": 0,
  "metadata": {
    "colab": {
      "name": "DS_school.ipynb의 사본",
      "private_outputs": true,
      "provenance": [],
      "collapsed_sections": [
        "-WRWoDJ99lVS",
        "-vnONYEHn_8U",
        "diUEoye_o0Fs",
        "Qy-ct3M-_h8n",
        "pazw4ntQAd9t"
      ],
      "authorship_tag": "ABX9TyMSVaiqI+F62VFpAnY5ej6v",
      "include_colab_link": true
    },
    "kernelspec": {
      "name": "python3",
      "display_name": "Python 3"
    },
    "language_info": {
      "name": "python"
    }
  },
  "cells": [
    {
      "cell_type": "markdown",
      "metadata": {
        "id": "view-in-github",
        "colab_type": "text"
      },
      "source": [
        "<a href=\"https://colab.research.google.com/github/Midmost/Midmost.github.io/blob/main/DS_school_ipynb%EC%9D%98_%EC%82%AC%EB%B3%B8.ipynb\" target=\"_parent\"><img src=\"https://colab.research.google.com/assets/colab-badge.svg\" alt=\"Open In Colab\"/></a>"
      ]
    },
    {
      "cell_type": "markdown",
      "metadata": {
        "id": "w3dbBbri3knj"
      },
      "source": [
        "# Vectorized operation"
      ]
    },
    {
      "cell_type": "markdown",
      "metadata": {
        "id": "MKFldPTl3t8z"
      },
      "source": [
        "* list와 num.array의 차이는?\n",
        "* 벡터화연산과 일반 연산과의 차이는?\n",
        "* product와 multiply의 차이는?"
      ]
    },
    {
      "cell_type": "code",
      "metadata": {
        "id": "p4anK1Ql3rUQ"
      },
      "source": [
        "import numpy as np\n",
        "\n",
        "data = [0,'희진',2,3,4,5]\n",
        "np_arry = np.array(data)\n",
        "data*2"
      ],
      "execution_count": null,
      "outputs": []
    },
    {
      "cell_type": "code",
      "metadata": {
        "id": "FlEto2024B6z"
      },
      "source": [
        "mult의 인수가 factor이고 결과값이 product인거야. \n",
        "여기서 multiply는 '덧셈의 반복' 인거고 \n",
        "\n",
        "list와 numpy 배열의 차이는 겉보기에는 차이가 없지만\n",
        "리스트는 각 factor의 자료형이 다 달라도 돼. [1, 'heejin', 2] 이렇게 혼합해서 써도 되지만\n",
        "넘파이 배열은 자료형이 통합되어 있어야 해. \n",
        "\n",
        "--> 질문 그럼 넘파이 배열에서 스트링만 받을 수 도 있는건간???\n",
        "노농 np.chararray 라고 따로 있음 \n",
        "\n",
        "또한 리스트에 만약 2를 mult한다면 똑같은게 그대로 한번 더 반복해서 나와\n",
        "예를 들어 [1, '바보', 3] *2 는 [1, '바보', 3, 1, '바보, 3'] 이렇게\n",
        "하지만 numpy 배열은 각 인자들에게 2가 곱해진 값으로 나와 당연히 chararray가 아니니까 숫자만 받을 수 있겠찌?\n",
        "array[1,2,3] * 2 = [2,4,6]\n",
        "\n",
        "방금한 그거 그거도 벡터화연산이야 \n",
        "벡터는 뭐지? 순서쌍, 순서를 가진 숫자쌍이지. \n",
        "함수는 뭐지? 서로 관계를 가지고 있는 숫자쌍.\n",
        "내가 만약 x라는 볼트를 오른쪽으로 돌려서 y라는 소리가 커지는 거 이렇게 서로 '관계'를 맺고 있는 상태들을\n",
        "모두 함수라고 정의할 수 있어. \n",
        "\n",
        "그렇다면 벡터는 왜 쓰게 되었지?  \n",
        "변수를 설정할 때 일정한 순서를 가지고 '반복된 행동'을 하는 과정을 간소화 하려고\n",
        "벡터화 연산은 결국 '반복연산을 하나의 명령어로 처리'하는 것을 의미해. \n",
        "위에서 봤듯이 만약 mult2라고 한다면 배열 객체는 배열의 각 factor마다 2를 곱해 \n",
        "무려 3번이나 같은 행동을 반복해야 하는거지. 얼마나 비효율적이야. 이게 만약 만번이라면?\n",
        "이런 경우에 바로 벡터화 연산을 쓰는 거야. array자체가 이거를 지원해서 우리는 굳이 for구문을 안쓰고도\n",
        "빠르게 연산처리를 할 수 있는거지! \n",
        "\n"
      ],
      "execution_count": null,
      "outputs": []
    },
    {
      "cell_type": "code",
      "metadata": {
        "id": "_g9uWLSA8FJy"
      },
      "source": [
        "a = np.array([1,2,3])\n",
        "b = np.array([10,20,30])"
      ],
      "execution_count": null,
      "outputs": []
    },
    {
      "cell_type": "code",
      "metadata": {
        "id": "ndb-Jc5h6E8_"
      },
      "source": [
        "# 참고로 괄호를 절대 잊으면 안돼!! \n",
        "2 * a + b\n",
        "2 * (a + b) "
      ],
      "execution_count": null,
      "outputs": []
    },
    {
      "cell_type": "markdown",
      "metadata": {
        "id": "-WRWoDJ99lVS"
      },
      "source": [
        "# 2차원 배열 만들기\n"
      ]
    },
    {
      "cell_type": "code",
      "metadata": {
        "id": "O7c2OwgP9xQm"
      },
      "source": [
        "dimension_2 = np.array([[1,2,3], [4,5,6]])\n",
        "dimension_2\n",
        "\n",
        "# 행의 갯수\n",
        "len(dimension_2)\n",
        "\n",
        "# 열의 갯수\n",
        "len(dimension_2[0])"
      ],
      "execution_count": null,
      "outputs": []
    },
    {
      "cell_type": "code",
      "metadata": {
        "id": "TyoSAPXi-FDL"
      },
      "source": [
        "dimension_3 = np.array([[1,2,3],[4,5,6], [7,8,9]])\n",
        "dimension_3"
      ],
      "execution_count": null,
      "outputs": []
    },
    {
      "cell_type": "code",
      "metadata": {
        "id": "ZpyFNdwO-THi"
      },
      "source": [
        "test = np.array([[10,20,30,40],[50,60,70,80]])\n",
        "test"
      ],
      "execution_count": null,
      "outputs": []
    },
    {
      "cell_type": "code",
      "metadata": {
        "id": "o7GsDlh3-3uX"
      },
      "source": [
        "x = np.array([1, 2, 3, 4, 5, 6, 7, 8, 9, 10,\n",
        "             11, 12, 13, 14, 15, 16, 17, 18, 19, 20])\n",
        "\n",
        "x % 3 ==0\n",
        "x % 4 == 1\n",
        "idx = (x % 3 == 0) & (x % 4 == 1)\n",
        "x[idx]"
      ],
      "execution_count": null,
      "outputs": []
    },
    {
      "cell_type": "markdown",
      "metadata": {
        "id": "29Pjho9Ml98m"
      },
      "source": [
        "---"
      ]
    },
    {
      "cell_type": "markdown",
      "metadata": {
        "id": "PvvKKFYDl_Xa"
      },
      "source": [
        "# 넘파이의 자료형\n",
        "\n",
        "ndarray 자체가 클래스였어? "
      ]
    },
    {
      "cell_type": "markdown",
      "metadata": {
        "id": "-vnONYEHn_8U"
      },
      "source": [
        "# Inf & NaN"
      ]
    },
    {
      "cell_type": "code",
      "metadata": {
        "id": "afsagk_FoCqj"
      },
      "source": [
        "# np.inf는 infinity \n",
        "# np.nan는 not a number\n",
        "\n",
        "np.array([0,1,-1,0] / np.array([1,0,0,0]))"
      ],
      "execution_count": null,
      "outputs": []
    },
    {
      "cell_type": "code",
      "metadata": {
        "id": "HFczOgj_oIWc"
      },
      "source": [
        "np.exp(-np.inf)"
      ],
      "execution_count": null,
      "outputs": []
    },
    {
      "cell_type": "markdown",
      "metadata": {
        "id": "diUEoye_o0Fs"
      },
      "source": [
        "# 배열 생성"
      ]
    },
    {
      "cell_type": "code",
      "metadata": {
        "id": "KyzTz5Moo1tn"
      },
      "source": [
        "a = np.zeros((3,3))\n",
        "a"
      ],
      "execution_count": null,
      "outputs": []
    },
    {
      "cell_type": "code",
      "metadata": {
        "id": "PuXEwKjbo9tE"
      },
      "source": [
        "str_num = np.zeros(5, dtype=\"U4\")\n",
        "str_num"
      ],
      "execution_count": null,
      "outputs": []
    },
    {
      "cell_type": "code",
      "metadata": {
        "id": "-ljNP2U7pUyZ"
      },
      "source": [
        "str_num[0] = 'heejin'\n",
        "str_num[2] = 'eats'\n",
        "str_num[3] = 'pies'\n",
        "str_num"
      ],
      "execution_count": null,
      "outputs": []
    },
    {
      "cell_type": "code",
      "metadata": {
        "id": "nFJjYq1RpeFA"
      },
      "source": [
        "# i = int32\n",
        "one_num = np.ones((2,3,4), dtype=\"i\")\n",
        "\n",
        "# i8 = int64\n",
        "one_num = np.ones((2,3,4), dtype=\"i8\")\n",
        "one_num.dtype"
      ],
      "execution_count": null,
      "outputs": []
    },
    {
      "cell_type": "code",
      "metadata": {
        "id": "seY91rVzqFKg"
      },
      "source": [
        "f = np.ones_like(str_num, dtype=\"i\")\n",
        "f"
      ],
      "execution_count": null,
      "outputs": []
    },
    {
      "cell_type": "code",
      "metadata": {
        "id": "cIaMfk9Lq7TC"
      },
      "source": [
        "np.arange(1,10,3)"
      ],
      "execution_count": null,
      "outputs": []
    },
    {
      "cell_type": "code",
      "metadata": {
        "id": "PkTYGi8iruOK"
      },
      "source": [
        "import numpy as np\n",
        "a = np.arange(15)\n",
        "\n",
        "# reshape 에서 -1이 가지는 역할 잊지마!!!!\n",
        "b = a.reshape(3 , -1)\n",
        "b"
      ],
      "execution_count": null,
      "outputs": []
    },
    {
      "cell_type": "code",
      "metadata": {
        "id": "B388q2VxsRel"
      },
      "source": [
        "a.reshape(3, 1, -1)"
      ],
      "execution_count": null,
      "outputs": []
    },
    {
      "cell_type": "code",
      "metadata": {
        "id": "nCPOBMCJs5Wl"
      },
      "source": [
        "g = np.arange(3)\n",
        "g = g[np.newaxis, :]\n",
        "g"
      ],
      "execution_count": null,
      "outputs": []
    },
    {
      "cell_type": "markdown",
      "metadata": {
        "id": "xX8-UpuCvW6p"
      },
      "source": [
        "# 배열 연결\n",
        "\n",
        "concat을 해보자! 더 큰 배열!"
      ]
    },
    {
      "cell_type": "code",
      "metadata": {
        "id": "y1Ea-BAYvgJB"
      },
      "source": [
        "# horize!! hstack\n",
        "#행의 수가 같은 두 개 이상의 배열을 옆으로 쭈우우욱 연결하는거! 기차놀이~ 줄줄이 쏘시지를 연상!\n",
        "\n",
        "a1 = np.ones((3,1) ,dtype=\"i\")\n",
        "a2 = np.ones((3,10), dtype='i')\n",
        "\n",
        "np.hstack([a1, a2])"
      ],
      "execution_count": null,
      "outputs": []
    },
    {
      "cell_type": "code",
      "metadata": {
        "id": "dVm7TxQbwUFF"
      },
      "source": [
        "# vertical!! vstack\n",
        "# 야 이거 콜롬수 같아야혀!\n",
        "\n",
        "b1 = np.ones((1,3) ,dtype=\"i\")\n",
        "b2 = np.ones((10,3), dtype='i')\n",
        "\n",
        "np.vstack([b1, b2])"
      ],
      "execution_count": null,
      "outputs": []
    },
    {
      "cell_type": "code",
      "metadata": {
        "id": "usnAL-_IxbUp"
      },
      "source": [
        "#depth!! dstack\n",
        "\n",
        "c = np.array([[3,3]])\n",
        "d = np.array([[2,2]])\n",
        "e = np.ones((1,2))\n",
        "f = np.zeros((1,2))\n",
        "cdef = np.dstack([c, d, e, f])\n",
        "cdef.astype(int)"
      ],
      "execution_count": null,
      "outputs": []
    },
    {
      "cell_type": "code",
      "metadata": {
        "id": "bzYRF2Em4Ke8"
      },
      "source": [
        "cdef.shape"
      ],
      "execution_count": null,
      "outputs": []
    },
    {
      "cell_type": "code",
      "metadata": {
        "id": "Lc8gO8z_0WYD"
      },
      "source": [
        "# stack!!! point out the axis!!\n",
        "\n",
        "stck = np.stack([c, d, e, f], axis=1)\n",
        "stck.shape"
      ],
      "execution_count": null,
      "outputs": []
    },
    {
      "cell_type": "code",
      "metadata": {
        "id": "0gQRu1t40N8h"
      },
      "source": [
        "stck2 = np.stack([c, d, e, f], axis=0)\n",
        "stck2.shape\n"
      ],
      "execution_count": null,
      "outputs": []
    },
    {
      "cell_type": "code",
      "metadata": {
        "id": "etAsy4jb3QfK"
      },
      "source": [
        "# r_ & c_\n",
        "\n",
        "r_ 과 c_ 메서드는 hstack과 비슷하게 배열을 좌우로 연결한다. 다만 메서드임에도 불구하고 \n",
        "()를 사용하지 않고 []을 사용한다. \n",
        "이런 특수 method를 indexer라고 한다. "
      ],
      "execution_count": null,
      "outputs": []
    },
    {
      "cell_type": "code",
      "metadata": {
        "id": "a8du0qnr5bF6"
      },
      "source": [
        "np.r_[np.array([1,2,3]), np.array([4,5,6])]"
      ],
      "execution_count": null,
      "outputs": []
    },
    {
      "cell_type": "code",
      "metadata": {
        "id": "Yq_u2CB35g3P"
      },
      "source": [
        "np.c_[np.array([1,2,3]), np.array ([4,5,6])]"
      ],
      "execution_count": null,
      "outputs": []
    },
    {
      "cell_type": "code",
      "metadata": {
        "id": "-6GDzkUA5sRb"
      },
      "source": [
        "np.tile(c, (3,2))"
      ],
      "execution_count": null,
      "outputs": []
    },
    {
      "cell_type": "code",
      "metadata": {
        "id": "4twBos1v6sqZ"
      },
      "source": [
        "# 연습 문제 3.2.1 \n",
        "\n",
        "a = np.zeros(3)\n",
        "b = np.ones(2)\n",
        "c = np.hstack([a,b])\n",
        "\n",
        "\n",
        "d = np.tile(c, (3,1))\n",
        "# d == a + b + c--------------------------\n",
        "\n",
        "e = np.array([10,20,30,40,50])\n",
        "f = np.arange(60, 110, 10)\n",
        "g = f + 50\n",
        "\n",
        "\n",
        "h = np.stack([e,f,g], axis=0)\n",
        "# h == e + f + g -----------------\n",
        "\n",
        "i = np.r_[d, h]\n",
        "j = np.tile(i,(2,1))\n",
        "j"
      ],
      "execution_count": null,
      "outputs": []
    },
    {
      "cell_type": "markdown",
      "metadata": {
        "id": "-6deGu-a_hTH"
      },
      "source": [
        "---\n"
      ]
    },
    {
      "cell_type": "markdown",
      "metadata": {
        "id": "Qy-ct3M-_h8n"
      },
      "source": [
        "# 2차원 그리드 포인트 생성"
      ]
    },
    {
      "cell_type": "code",
      "metadata": {
        "id": "MtAojFGz_x7L"
      },
      "source": [
        "col = np.arange(3)\n",
        "row = np.arange(5)\n",
        "\n",
        "# col가 x축이 되어라 row가 y축이 되어라\n",
        "mesh_x, mesh_y = np.meshgrid(col, row)\n",
        "\n",
        "# 왜 변수이름을 저렇게 지정했냐면 "
      ],
      "execution_count": null,
      "outputs": []
    },
    {
      "cell_type": "code",
      "metadata": {
        "id": "jzJq6fwdGp0w"
      },
      "source": [
        "col # 이 개수만큼 열이 생기고"
      ],
      "execution_count": null,
      "outputs": []
    },
    {
      "cell_type": "code",
      "metadata": {
        "id": "8Hp9RMYmGrba"
      },
      "source": [
        "row # 이 개수만큼 행이 생기거든 "
      ],
      "execution_count": null,
      "outputs": []
    },
    {
      "cell_type": "markdown",
      "metadata": {
        "id": "CwR_mOQpFO5K"
      },
      "source": [
        "진행하기 전에 잠깐! list comprehension 예제를 보고 오자\n",
        "\n",
        "---\n"
      ]
    },
    {
      "cell_type": "code",
      "metadata": {
        "id": "FLqFmN3e_1BB"
      },
      "source": [
        "# syntax\n",
        "# newlist = [expression for item in iterable if condition == True]\n",
        "\n",
        "fruits = [\"apple\", \"banana\", \"cherry\", \"kiwi\", \"mango\"]\n",
        "\n",
        "newlist = ['hello' for x in fruits]\n",
        "newlist"
      ],
      "execution_count": null,
      "outputs": []
    },
    {
      "cell_type": "code",
      "metadata": {
        "id": "IafxB1k3FeJw"
      },
      "source": [
        "newlist = [x for x in fruits if 'a' in x]\n",
        "newlist"
      ],
      "execution_count": null,
      "outputs": []
    },
    {
      "cell_type": "code",
      "metadata": {
        "id": "lh1C2-3gGIKe"
      },
      "source": [
        "newlist = [x.upper() for x in fruits]\n",
        "newlist"
      ],
      "execution_count": null,
      "outputs": []
    },
    {
      "cell_type": "code",
      "metadata": {
        "id": "oC0XeJvaALXM"
      },
      "source": [
        "# Return \"orange\" instead of \"banana\":\n",
        "newlist = [x if x != 'banana' else 'orange' for x in fruits]\n",
        "newlist"
      ],
      "execution_count": null,
      "outputs": []
    },
    {
      "cell_type": "markdown",
      "metadata": {
        "id": "TIDLOH8wFUrE"
      },
      "source": [
        "----\n"
      ]
    },
    {
      "cell_type": "code",
      "metadata": {
        "id": "aCJ1LzbgFV6b"
      },
      "source": [
        "mesh_x"
      ],
      "execution_count": null,
      "outputs": []
    },
    {
      "cell_type": "code",
      "metadata": {
        "id": "UXTF1Jg8GZ59"
      },
      "source": [
        "mesh_y"
      ],
      "execution_count": null,
      "outputs": []
    },
    {
      "cell_type": "code",
      "metadata": {
        "id": "EFPAIOVPIHjN"
      },
      "source": [
        "# zip(*iterables) --> zip object\n",
        "\n",
        "Return a zip object whose .next() method returns a tuple where\n",
        "the i-th element comes from the i-th iterable argument.  The .next()\n",
        "method continues until the shortest iterable in the argument sequence\n",
        "is exhausted and then it raises StopIteration.\n",
        "\n",
        "zip(*iterable)은 동일한 개수로 이루어진 자료형을 묶어 주는 역할을 하는 함수이다.\n",
        "\n",
        "※ 여기서 사용한 *iterable은 반복 가능(iterable)한 자료형 여러 개를 입력할 수 있다는 의미이다.\n",
        "\n",
        "잘 이해되지 않는다면 다음 예제를 살펴보자.\n",
        "\n",
        ">>> list(zip([1, 2, 3], [4, 5, 6]))\n",
        "[(1, 4), (2, 5), (3, 6)]\n",
        ">>> list(zip([1, 2, 3], [4, 5, 6], [7, 8, 9]))\n",
        "[(1, 4, 7), (2, 5, 8), (3, 6, 9)]\n",
        ">>> list(zip(\"abc\", \"def\"))\n",
        "[('a', 'd'), ('b', 'e'), ('c', 'f')]"
      ],
      "execution_count": null,
      "outputs": []
    },
    {
      "cell_type": "code",
      "metadata": {
        "id": "n67ADbhMGiiz"
      },
      "source": [
        "[list(zip(col, row)) for col, row in zip(mesh_x, mesh_y)]"
      ],
      "execution_count": null,
      "outputs": []
    },
    {
      "cell_type": "markdown",
      "metadata": {
        "id": "pazw4ntQAd9t"
      },
      "source": [
        "---\n",
        "\n",
        "# 배열의 연산\n",
        "\n"
      ]
    },
    {
      "cell_type": "code",
      "metadata": {
        "id": "yaBMNTSLCNo6"
      },
      "source": [
        "!pip install ipython"
      ],
      "execution_count": null,
      "outputs": []
    },
    {
      "cell_type": "code",
      "metadata": {
        "id": "wH0soUofAkb3"
      },
      "source": [
        "x = np.arange(1,10001)\n",
        "y = np.arange(10001, 20001)"
      ],
      "execution_count": null,
      "outputs": []
    },
    {
      "cell_type": "code",
      "metadata": {
        "id": "xifr-RtuBFMb"
      },
      "source": [
        "# % line코드의 실행시간 \n",
        "# %% cell 코드의 실행시간\n",
        "%%time\n",
        "z = np.zeros_like(x)\n",
        "\n",
        "for i in range(10000):\n",
        "  z[i] = x[i] + y[i]"
      ],
      "execution_count": null,
      "outputs": []
    },
    {
      "cell_type": "code",
      "metadata": {
        "id": "1sSZTgViC0zw"
      },
      "source": [
        "z[:10]"
      ],
      "execution_count": null,
      "outputs": []
    },
    {
      "cell_type": "code",
      "metadata": {
        "id": "sJ7aNSGKDWAK"
      },
      "source": [
        "%%time\n",
        "z = x + y"
      ],
      "execution_count": null,
      "outputs": []
    },
    {
      "cell_type": "code",
      "metadata": {
        "id": "2vb5citXDgoT"
      },
      "source": [
        "a = np.array([1,1])\n",
        "b = np.array([1,2])\n",
        "c = np.array([1,1])\n",
        "\n",
        "np.all(a == c)"
      ],
      "execution_count": null,
      "outputs": []
    },
    {
      "cell_type": "code",
      "metadata": {
        "id": "lcpz_nNHFF6L"
      },
      "source": [
        "a = np.arange(5)\n",
        "np.exp(a)\n",
        "10**a\n",
        "np.log(a+1)"
      ],
      "execution_count": null,
      "outputs": []
    },
    {
      "cell_type": "code",
      "metadata": {
        "id": "YSohJUWjF_4z"
      },
      "source": [
        "x = np.arange(5)[:, np.newaxis]\n",
        "x"
      ],
      "execution_count": null,
      "outputs": []
    },
    {
      "cell_type": "code",
      "metadata": {
        "id": "LhAaCuHtKzIp"
      },
      "source": [
        "y = np.arange(5)[np.newaxis, :]\n",
        "y"
      ],
      "execution_count": null,
      "outputs": []
    },
    {
      "cell_type": "code",
      "metadata": {
        "id": "SUbXGU5gMVuC"
      },
      "source": [
        "x + y"
      ],
      "execution_count": null,
      "outputs": []
    },
    {
      "cell_type": "code",
      "metadata": {
        "id": "7lkU6qAAK-le"
      },
      "source": [
        "x + y # np.newaxis 없이 해도 되네요 이것도 브로드캐스팅 지원받아서인가요?"
      ],
      "execution_count": null,
      "outputs": []
    },
    {
      "cell_type": "code",
      "metadata": {
        "id": "_AKG1juDMCVL"
      },
      "source": [
        "################\n",
        "# 출력하지 말고 해석해봐\n",
        "v = np.vstack([range(7) for i in range(4)])"
      ],
      "execution_count": null,
      "outputs": []
    },
    {
      "cell_type": "code",
      "metadata": {
        "id": "nlwCV5qmOTCU"
      },
      "source": [
        "# [i:i] = [:]\n",
        "# [: +n] 이란 뜻은 n개 숫자만큼 딱! 자르겠다. \n",
        "v = np.vstack([range(7)[: +3] for i in range(4)])\n",
        "v"
      ],
      "execution_count": null,
      "outputs": []
    },
    {
      "cell_type": "code",
      "metadata": {
        "id": "30HYZWcUNNuE"
      },
      "source": [
        "x = np.array([1,2,3]) \n",
        "\n",
        "# https://stackoverflow.com/questions/28703834/why-do-some-methods-use-dot-notation-and-others-dont\n",
        "\n",
        "# 모든 경우의 오브젝트에도 적용할 수 있으면 소중하게 fuction(여기에) 품을거지만\n",
        "# 내가 '지정한'오브젝트에게만 통용되게 하려면, method.여기에() 쓰는 거야\n",
        "np.sum(x)\n",
        "x.sum()"
      ],
      "execution_count": null,
      "outputs": []
    },
    {
      "cell_type": "code",
      "metadata": {
        "id": "QRd2lpzERt89"
      },
      "source": [
        "x = np.array([1,3,2])\n",
        "x.min()\n",
        "x.max()\n",
        "x.argmin() # index of min argument\n",
        "x.argmax() \n",
        "x.mean()\n",
        "np.median(x)\n",
        "np.all([True, True, False])\n",
        "np.any([True, True, False])"
      ],
      "execution_count": null,
      "outputs": []
    },
    {
      "cell_type": "code",
      "metadata": {
        "id": "u_TmQhthUM_N"
      },
      "source": [
        "a = np.zeros((10,10), dtype=np.int) # i8\n",
        "np.all( a != 1)"
      ],
      "execution_count": null,
      "outputs": []
    },
    {
      "cell_type": "code",
      "metadata": {
        "id": "vZPKC6QDVaau"
      },
      "source": [
        "# axis=0 이면 x축이지만 행렬로는 '열'\n",
        "# axis=1 이면 y축이지만 행렬로는 '행'"
      ],
      "execution_count": null,
      "outputs": []
    },
    {
      "cell_type": "markdown",
      "metadata": {
        "id": "XA3FvTW9B3Tj"
      },
      "source": [
        "정렬"
      ]
    },
    {
      "cell_type": "code",
      "metadata": {
        "id": "LQCLnBGSWQpQ"
      },
      "source": [
        "a = np.array([[4,3,5,7],\n",
        "             [1,12,11,9],\n",
        "             [2,15,1,14]])\n",
        "\n",
        "a"
      ],
      "execution_count": null,
      "outputs": []
    },
    {
      "cell_type": "code",
      "metadata": {
        "id": "H0qXqlO7BwwO"
      },
      "source": [
        "np.sort(a, axis=-1) # axis 기본값 \n",
        "a.sort(axis=0) # 자체변화 (in-place) "
      ],
      "execution_count": null,
      "outputs": []
    },
    {
      "cell_type": "code",
      "metadata": {
        "id": "dthLh5d6CcaX"
      },
      "source": [
        "#순서만 알고 싶어\n",
        "\n",
        "a = np.array([4,3,1,2]) #### Q. 왜 자꾸 2310나오지? 3201 나와야하는데;;;\n",
        "j = np.argsort(a)\n",
        "a[j]"
      ],
      "execution_count": null,
      "outputs": []
    },
    {
      "cell_type": "code",
      "metadata": {
        "id": "bzLyO68hDFnb"
      },
      "source": [
        "grade = np.array([[  1,    2,    3,    4],\n",
        "               [ 46,   99,  100,   71],\n",
        "               [ 81,   59,   90,  100]])\n",
        "\n",
        "grade.sort()\n",
        "grade"
      ],
      "execution_count": null,
      "outputs": []
    },
    {
      "cell_type": "markdown",
      "metadata": {
        "id": "uxM25v1oI1qd"
      },
      "source": [
        "---\n",
        "\n",
        "기술통계\n",
        "\n",
        "Q. 궁금한게 기술통계는 이미 있는 자료들로 하는건데 왜 표본평균이 기준이지? 모평균이 기준일 줄 알았는데\n",
        "추리통계에서 표본평균이 기준이고 모평균을 찾고 싶어하는 거 아닌가??"
      ]
    },
    {
      "cell_type": "markdown",
      "metadata": {
        "id": "H2w1XvURLOeA"
      },
      "source": [
        "---\n",
        "\n",
        "# 난수 발생과 카운팅"
      ]
    },
    {
      "cell_type": "code",
      "metadata": {
        "id": "YevyvCxjI4ZP"
      },
      "source": [
        "np.random.seed(0) # 난수 생성을 위한 시작 숫자 설정\n",
        "np.random.rand(3) # 0 ~ 1 사이의 난수 생성"
      ],
      "execution_count": null,
      "outputs": []
    },
    {
      "cell_type": "markdown",
      "metadata": {
        "id": "S42mQaEtM2Tr"
      },
      "source": [
        "이제 저 배열은 1차원 배열이면서 하나의 집합이면서 (1,3)의 행렬이면서 원소를 3개가진 벡터이기도 해.\n",
        "\n",
        "근데 우리가 난수를 고정시켰잖아? \n",
        "\n",
        "그래서 명확히 표현하자면 원소 3개가 고정된 벡터야. \n",
        "\n",
        "\n",
        "근데 순서를 바꾸고 싶을 수도 있잖아? "
      ]
    },
    {
      "cell_type": "code",
      "metadata": {
        "id": "mwYrPVCNMlXh"
      },
      "source": [
        "np.random.seed(0)\n",
        "rn3 = np.random.rand(3)\n",
        "np.random.shuffle(rn3)  # in-place 주의\n",
        "rn3"
      ],
      "execution_count": null,
      "outputs": []
    },
    {
      "cell_type": "markdown",
      "metadata": {
        "id": "UEnCUQwtOqaR"
      },
      "source": [
        "데이터 샘플링\n"
      ]
    },
    {
      "cell_type": "code",
      "metadata": {
        "id": "t2zecb1BQvG9"
      },
      "source": [
        "numpy.random.choice(heejin, size=None, replace=True, p=None)"
      ],
      "execution_count": null,
      "outputs": []
    },
    {
      "cell_type": "code",
      "metadata": {
        "id": "_2jQaClHRY_t"
      },
      "source": [
        "heejin = np.array([1,2,3,3,5])\n",
        "np.random.choice(heejin, 2, replace=False) #한 번 선택한 값이 중복으로 다시 나올 수 있는가"
      ],
      "execution_count": null,
      "outputs": []
    },
    {
      "cell_type": "code",
      "metadata": {
        "id": "hgqFCS5CRrnn"
      },
      "source": [
        "np.random.choice(5,10, replace=False)\n",
        "np.random.choice(5,10, replace=True)"
      ],
      "execution_count": null,
      "outputs": []
    },
    {
      "cell_type": "code",
      "metadata": {
        "id": "sFBr1AoVSqzG"
      },
      "source": [
        "np.random.choice(5,10, p=[0.1, 0, 0.3, 0.6, 0]) # P: 각 데이터가 선택될 수 있는 확률"
      ],
      "execution_count": null,
      "outputs": []
    },
    {
      "cell_type": "markdown",
      "metadata": {
        "id": "4nmZXfpjTZWV"
      },
      "source": [
        "난수 생성\n",
        "\n",
        "* rand: 0 ~ 1사이의 균일 분포\n",
        "* randn: 표준 정규 분포\n",
        "* randint: 균일 분포의 정수 난수"
      ]
    },
    {
      "cell_type": "code",
      "metadata": {
        "id": "brCRN7N7Tas_"
      },
      "source": [
        "np.random.rand(3,5) #행렬로 뽑음"
      ],
      "execution_count": null,
      "outputs": []
    },
    {
      "cell_type": "code",
      "metadata": {
        "id": "2QszHtAuUrq1"
      },
      "source": [
        "np.random.randint(low, high=None, size=None, dtype=int)"
      ],
      "execution_count": null,
      "outputs": []
    },
    {
      "cell_type": "markdown",
      "metadata": {
        "id": "8S3ZH7rL5Plc"
      },
      "source": [
        "--- \n",
        "\n"
      ]
    },
    {
      "cell_type": "markdown",
      "metadata": {
        "id": "MoNei9-u5ZqK"
      },
      "source": [
        "# Pandas\n",
        "\n"
      ]
    },
    {
      "cell_type": "markdown",
      "metadata": {
        "id": "Q2sdbxj65eum"
      },
      "source": [
        "## pandas package"
      ]
    },
    {
      "cell_type": "markdown",
      "metadata": {
        "id": "lx7IObZVNxul"
      },
      "source": [
        "Series"
      ]
    },
    {
      "cell_type": "code",
      "metadata": {
        "id": "hzotxqLz5irX"
      },
      "source": [
        "# import\n",
        "import pandas as pd\n",
        "\n",
        "# Series class\n",
        "# Series = value + index\n",
        "\n",
        "# index label\n",
        "s = pd.Series([9904312,3448737,2890451,2466052], index=['서울','부산','인천', '대구'])\n",
        "\n",
        "s.index\n",
        "s.values\n",
        "s.name = '인구' # Name: 인구\n",
        "s.index.name = '도시' # 인덱스위에 하나더 생김\n",
        "s\n",
        "\n",
        "# vectorize abailable to Series but not index\n",
        "s / 100000\n",
        "\n",
        "# Series indexing\n",
        "s[1],  s['부산'] # 둘 다 같은 값!!! value만 반환\n",
        "\n",
        "# array indexing\n",
        "s[[1]]          # series를 반환!!\n",
        "s[(250e4 < s) & (s < 500e4)] # 인구가 250만 초과, 500만 미만\n",
        "s[1:3]\n",
        "s['부산':'대구'] # 숫자indexing과 달리 '대구'도 포함!! 잊지마!\n",
        "s.서울 # 책에서는 영문만 가능하다고 했는데 한글도 되네!\n",
        "\n",
        "# Series & Dictionary\n",
        "\n",
        "#series는 label 에 의해 indexing\n",
        "#dict는 key에 의해 indexing\n",
        "# => 따라서 둘의 연산은 같다! \n",
        "\n",
        "# '서울' in s \n",
        "# for key, value in s.items():\n",
        "#    print('%s = %d' % (key,value))\n",
        "\n",
        "# 인덱스 기반 연산\n",
        "s2 = pd.Series({\"서울\": 9631482, \"부산\": 3393191, \"인천\": 2632035, \"대전\": 1490158},index=[\"부산\", \"서울\", \"인천\", \"대전\"])\n",
        "ds = s - s2\n",
        "s.values - s2.values\n",
        "\n",
        "\n",
        "# NAN & notnull   \n",
        "# NaN은 float에서만 가능! \n",
        "ds.notnull()\n",
        "ds[ds.notnull()]  # NaN이 아닌 값만 구해라\n",
        "\n",
        "# 인구증가율을 구해라\n",
        "rs = (s-s2) / s2 * 100\n",
        "rs = rs[rs.notnull()]\n",
        "rs\n",
        "\n",
        "#데이터의 갱신, 추가, 삭제\n",
        "rs['부산'] = 1.63  # 1.636984가 1.630000이 될거임\n",
        "rs['대구'] = 1.41  # '대구'가 추가되고 1.41의 값을 가질거임\n",
        "del rs['서울']     # '서울'이 삭제될거임"
      ],
      "execution_count": null,
      "outputs": []
    },
    {
      "cell_type": "code",
      "metadata": {
        "id": "Lm_cYfs8LVYf"
      },
      "source": [
        "# 연습문제 4.1.1\n",
        "\n",
        "year = pd.Series([2020, 2021], index=['작년','올해'])\n",
        "boy = pd.Series(['혁빈', '지환'], index=['전남친', '현남친'])\n",
        "boy['전남친'] = 2009\n",
        "boy['현남친'] = 8991"
      ],
      "execution_count": null,
      "outputs": []
    },
    {
      "cell_type": "markdown",
      "metadata": {
        "id": "Fj-iF9FASG-d"
      },
      "source": [
        "DataFrame"
      ]
    },
    {
      "cell_type": "code",
      "metadata": {
        "id": "z5goGZ9_SMgs"
      },
      "source": [
        "data = {\n",
        "    \"2015\": [9904312, 3448737, 2890451, 2466052],\n",
        "    \"2010\": [9631482, 3393191, 2632035, 2431774],\n",
        "    \"2005\": [9762546, 3512547, 2517680, 2456016],\n",
        "    \"2000\": [9853972, 3655437, 2466338, 2473990],\n",
        "    \"지역\": [\"수도권\", \"경상권\", \"수도권\", \"경상권\"],\n",
        "    \"2010-2015 증가율\": [0.0283, 0.0163, 0.0982, 0.0141]\n",
        "}\n",
        "columns = [\"지역\", \"2015\", \"2010\", \"2005\", \"2000\", \"2010-2015 증가율\"]\n",
        "index = [\"서울\", \"부산\", \"인천\", \"대구\"]\n",
        "df = pd.DataFrame(data, index=index, columns=columns)\n",
        "df"
      ],
      "execution_count": null,
      "outputs": []
    },
    {
      "cell_type": "code",
      "metadata": {
        "id": "HSj41v5_Srye"
      },
      "source": [
        "data = {\n",
        "    '이름': ['윌리엄','혁빈','지환'],\n",
        "    '피부색': ['꺼멓다','하얗다','꺼멓다'],\n",
        "    '나이': [25,26,28],\n",
        "    '지역': ['워싱턴','서울','구미']\n",
        "}\n",
        "\n",
        "col = ['이름', '피부색', '나이', '지역']\n",
        "inx = [2019, 2020, 2021]\n",
        "df = pd.DataFrame(data, index=inx, columns=col)\n",
        "df\n",
        "\n",
        "# '만난 기간' 추가\n",
        "df['만난 기간'] = [1, 12, 0.5]\n",
        "df"
      ],
      "execution_count": null,
      "outputs": []
    },
    {
      "cell_type": "code",
      "metadata": {
        "id": "jHdZXU4DTY5-"
      },
      "source": [
        "import numpy as np\n",
        "\n",
        "data = {\n",
        "    \"국어\": [80, 90, 70, 30],\n",
        "    \"영어\": [90, 70, 60, 40],\n",
        "    \"수학\": [90, 60, 80, 70],\n",
        "}\n",
        "columns = [\"국어\", \"영어\", \"수학\"]\n",
        "index = [\"춘향\", \"몽룡\", \"향단\", \"방자\"]\n",
        "df = pd.DataFrame(data, index=index, columns=columns)\n",
        "\n",
        "# 수학점수를 시리즈로\n",
        "df_m = pd.Series(df['수학'],index=index)\n",
        "df_m\n",
        "# 국어와 영어점수를 데이터프레임으로\n",
        "df_all = pd.DataFrame(df[['국어','영어']], index=index)\n",
        "df_all\n",
        "\n",
        "# 과목 평균 점수\n",
        "mean_k = np.sum(df['국어'].values) / 4\n",
        "mean_e = np.sum(df['영어'].values) / 4\n",
        "mean_m = np.sum(df['수학'].values) / 4\n",
        "\n",
        "# 각 학생 별 과목 별 평균점수를 새로운 열로\n",
        "mean_춘향 = (df['국어']['춘향'] + df['수학']['춘향'] + df['영어']['춘향']) / 3\n",
        "mean_몽룡 = (df['국어']['몽룡'] + df['수학']['몽룡'] + df['영어']['몽룡']) / 3\n",
        "mean_향단 = (df['국어']['향단'] + df['수학']['향단'] + df['영어']['향단']) / 3\n",
        "mean_방자 = (df['국어']['방자'] + df['수학']['방자'] + df['영어']['방자']) / 3\n",
        "df['평균'] = [mean_춘향, mean_몽룡, mean_향단, mean_방자]\n",
        "df['평균'] = df['평균'].round(2)\n",
        "df\n",
        "\n",
        "# 방자 영어점수 80으로 수정하고 평균도 다시 계산\n",
        "df['영어']['방자'] = 80\n",
        "mean_방자 = (df['국어']['방자'] + df['수학']['방자'] + df['영어']['방자']) / 3\n",
        "df['평균'] = [mean_춘향, mean_몽룡, mean_향단, mean_방자]\n",
        "df['평균'] = df['평균'].round(2)\n",
        "df\n",
        "\n",
        "# 춘향의 점수 데이터프레임\n",
        "score_춘향 = pd.DataFrame(df[:1])\n",
        "\n",
        "# score_향단 = pd.Series(df[2:3])\n"
      ],
      "execution_count": null,
      "outputs": []
    },
    {
      "cell_type": "markdown",
      "metadata": {
        "id": "hiGwOjBSwR3h"
      },
      "source": [
        "----\n",
        "\n",
        "# Numpy로 공부하는 선형대수"
      ]
    },
    {
      "cell_type": "markdown",
      "metadata": {
        "id": "L8e_D__6waav"
      },
      "source": [
        "## 데이터와 행렬"
      ]
    },
    {
      "cell_type": "code",
      "metadata": {
        "id": "LfV7IZHQwt4Z"
      },
      "source": [
        "from sklearn.datasets import load_digits\n",
        "import numpy as np\n",
        "import matplotlib.pyplot as plt\n",
        "\n",
        "digits = load_digits() # 데이터 로드\n",
        "samples = [0,1,2,3]\n",
        "d = [] #?? dimension?\n",
        "for i in range(4):\n",
        "  d.append(digits.images[samples[i]])\n",
        "\n",
        "plt.figure(figsize=(8,2))\n",
        "for i in range(4):\n",
        "  plt.subplot(1,4, i + 1)\n",
        "  plt.imshow(d[i], interpolation='nearest', cmap=plt.cm.bone_r)\n",
        "  plt.grid(False); plt.xticks([]); plt.yticks([])\n",
        "plt.title('숫자 0과 1 이미지')\n",
        "plt.tight_layout()\n",
        "plt.show()"
      ],
      "execution_count": null,
      "outputs": []
    },
    {
      "cell_type": "code",
      "metadata": {
        "id": "V5S2UagSxRn_"
      },
      "source": [
        "# 연습문제 2.1.2\n",
        "# 넘파이를 사용해서 붓꽃 데이터 x에 대한 행렬 변수 x를 만든다.\n",
        "\n",
        "from sklearn.datasets import load_iris # 사이킷런 \n",
        "\n",
        "iris = load_iris()\n",
        "iris_x = iris.data[0:5]\n",
        "# iris_x = np.array([[1,2],[0,0],[0,0]])\n",
        "iris_x"
      ],
      "execution_count": null,
      "outputs": []
    },
    {
      "cell_type": "markdown",
      "metadata": {
        "id": "UNQBWPr02IWn"
      },
      "source": [
        "### 텐서"
      ]
    },
    {
      "cell_type": "markdown",
      "metadata": {
        "id": "Ez2wViPz2bvf"
      },
      "source": [
        "컬러이미지를 생각하자 위의 digit 이미지를 생각할 때 2차원으로 생각될 수 있지만 \n",
        "사실은 r,g,b라는 각각의 행렬을 차곡차곡 쌓아서 만들어진거야\n",
        "텐저는 행렬을 여러개 쌓아놓"
      ]
    },
    {
      "cell_type": "markdown",
      "metadata": {
        "id": "IZfOVQZs2oNe"
      },
      "source": [
        "### 전치연산"
      ]
    },
    {
      "cell_type": "markdown",
      "metadata": {
        "id": "zFhOdjsn2ubQ"
      },
      "source": [
        "스칼라, 벡터, 행렬....이 데이터들을 변형(transpose)시키는 연산(operation)을 알아보자"
      ]
    },
    {
      "cell_type": "code",
      "metadata": {
        "id": "ECUrcnTU3QXs"
      },
      "source": [
        "# 연습문제 2.1.3\n",
        "# 1. 넘파이를 사용해서 붓꽃데이터 x의 전치행렬을 구해라\n",
        "iris_x.T\n",
        "\n",
        "# 2. 넘파이를 사용해서 (x^t)^t를 해라\n",
        "iris_x.T.T\n",
        "\n",
        "# 원래대로 돌아오넹"
      ],
      "execution_count": null,
      "outputs": []
    },
    {
      "cell_type": "markdown",
      "metadata": {
        "id": "TvaqM6oD4bdi"
      },
      "source": [
        "### 행렬의 행 표기법과 열 표기법\n",
        "\n",
        "\n",
        "모든 벡터는 기본적으로 열벡터이므로 ri 를 전치 연산하여 ri^T라고 행을 표현한 점에 주의하자!!!!\n",
        "c1 = r1^T"
      ]
    },
    {
      "cell_type": "markdown",
      "metadata": {
        "id": "FRSmmmMJ5HrA"
      },
      "source": [
        "### 특수한 벡터와 행렬"
      ]
    },
    {
      "cell_type": "code",
      "metadata": {
        "id": "WVR_u7UK5RLz"
      },
      "source": [
        "# 영벡터\n",
        "np.zeros((3,1))\n",
        "\n",
        "# 일벡터\n",
        "np.ones((3,1))\n",
        "\n",
        "# 대각행렬\n",
        "np.diag([1,2,3,10,3,21])\n",
        "\n",
        "# 항등행렬\n",
        "np.identity(3)\n",
        "np.eye(3)"
      ],
      "execution_count": null,
      "outputs": []
    },
    {
      "cell_type": "markdown",
      "metadata": {
        "id": "uZ6Sr53_7ClV"
      },
      "source": [
        "# 벡터와 행렬의 연산"
      ]
    },
    {
      "cell_type": "markdown",
      "metadata": {
        "id": "Q8gKVJZs7E99"
      },
      "source": [
        "## 벡터/행렬의 덧셈과 뺄셈"
      ]
    },
    {
      "cell_type": "markdown",
      "metadata": {
        "id": "p3Mzaynb7O25"
      },
      "source": [
        "같은 크기를 가진 두 개의 벡터나 헹렬은 덧셈과 뺄셈을 할 수 있다. \n",
        "  \n",
        "=> element-wise 연산!!"
      ]
    },
    {
      "cell_type": "markdown",
      "metadata": {
        "id": "iDjsWZY47aMA"
      },
      "source": [
        "## 브로드캐스팅\n",
        "\n",
        "이거 저번에 넘파이 할 떄 약간 읭 했던 거\n",
        "\n",
        "**스칼라를 벡터로 변환한 연산**\n",
        "\n",
        "데이터 분석에서는 원래의 데이터 벡터 x가 아니라 그 벡터 각 원소의 평균값을 뺀\n",
        "\n",
        "**mean removed vector** 혹은\n",
        "\n",
        "**zero-mean vector**(0-평균 벡터)를 사용하는 경우가 많다. "
      ]
    },
    {
      "cell_type": "markdown",
      "metadata": {
        "id": "G_Ys_PFb8G2U"
      },
      "source": [
        "## 선형조합\n",
        "\n",
        "스칼라값을 **곱한 후**!!! 더하거나 뺀 것을 \n",
        "\n",
        "벡터/행렬의 **linear combination**이라고 한다. "
      ]
    },
    {
      "cell_type": "markdown",
      "metadata": {
        "id": "8ZIKksrQ8vy3"
      },
      "source": [
        "## 벡터의 내적(dot product)"
      ]
    },
    {
      "cell_type": "markdown",
      "metadata": {
        "id": "tqYpD1Ww83LC"
      },
      "source": [
        "두 벡터를 내적하려면\n",
        "1. 우선 두 벡터의 차원이 같아야해\n",
        "2. 앞의 벡터가 행, 뒤의 벡터가 열벡터야 해\n",
        "3. 결과값은 스칼라"
      ]
    },
    {
      "cell_type": "code",
      "metadata": {
        "id": "0sk9zbQB9Gda"
      },
      "source": [
        "# dot product() 3-dimensional product\n",
        "x = np.array([[1],[2],[3]])\n",
        "y = np.array([[3],[6],[9]])\n",
        "\n",
        "np.dot(x.T, y) # 벡터는 항상 기본이 열벡터라서 변환을 해준 t를 column으로 인식! 잊지말쟈!\n",
        "\n",
        "# @\n",
        "x.T @ y\n",
        "\n",
        "\n",
        "# 1-dimensional product\n",
        "x = np.array([1,2,3]) \n",
        "y = np.array([3,2,1]) \n",
        "x @ y # 이 때 자동으로 앞을 행, 뒤를 열로 인식!"
      ],
      "execution_count": null,
      "outputs": []
    },
    {
      "cell_type": "markdown",
      "metadata": {
        "id": "jPhjrOe0-R9K"
      },
      "source": [
        "### 벡터의 내적을 이용한 연산!\n",
        "\n"
      ]
    },
    {
      "cell_type": "markdown",
      "metadata": {
        "id": "ZhqUYMMx-YWX"
      },
      "source": [
        "#### 가중합 (weighted sum)"
      ]
    },
    {
      "cell_type": "markdown",
      "metadata": {
        "id": "uRTtwx9z_beQ"
      },
      "source": [
        "차차틴트 18000원 \n",
        "\n",
        "하이라이트 16000원\n",
        "\n",
        "아이브로우 9000원\n",
        "\n",
        "선크림 8000원\n",
        "\n",
        "차차틴트를 2개 사고 선크림이 2+1이라 두 개를 살거야. \n",
        "총금액은?\n",
        "\n",
        "=> \n",
        "\n",
        "이렇게 각 물건의 '**가격**'을 데이터 벡터로\n",
        "\n",
        "각 물건의 '**수량**'을 가중치로 생각하여 \n",
        "\n",
        "'**내적**'을 구하면 총금액을 계산할 수 있다. \n"
      ]
    },
    {
      "cell_type": "code",
      "metadata": {
        "id": "0Je-xPSY-bwp"
      },
      "source": [
        "# 연습문제 2.2.1\n",
        "# 1. 가격= p, 수량 = n\n",
        "p = np.array([100,80, 50])\n",
        "n = np.array([3,4,5])\n",
        "p @ n"
      ],
      "execution_count": null,
      "outputs": []
    },
    {
      "cell_type": "markdown",
      "metadata": {
        "id": "_5zhjpkMCKj1"
      },
      "source": [
        "#### 가중평균 (weighted average)"
      ]
    },
    {
      "cell_type": "markdown",
      "metadata": {
        "id": "6tQ8dK_6CTsh"
      },
      "source": [
        "대학교는 전필과 전선이 있어\n",
        "전필은 3점이고 전선은 2점 교양은 1점이지 \n",
        "교양에서 100점을 받았다고 해도 전필이 60점이면 \n",
        "\n",
        "1/(1+3)×100 + 3/(1+3)×60 = 70\n",
        "\n",
        "교양점수는 25점\n",
        "전필점수는 45점"
      ]
    },
    {
      "cell_type": "code",
      "metadata": {
        "id": "HuwJl5dJDuCw"
      },
      "source": [
        "x = np.arange(10)    # [0, 1, 2, 3, 4, 5, 6, 7, 8, 9]\n",
        "N = len(x)           # 10\n",
        "\n",
        "np.ones(N) * x       # [0., 1., 2., 3., 4., 5., 6., 7., 8., 9.]\n",
        "np.ones(N) @ x       # 45.0\n",
        "np.ones(N) @ x / N   # 0부터 10까지의 평균은 4.5 \n",
        "\n",
        "# 위의 거추장스러움을 하나로!\n",
        "x.mean()      \n",
        "\n",
        "# 연습문제 2.2.5 부분을 보자!"
      ],
      "execution_count": null,
      "outputs": []
    },
    {
      "cell_type": "code",
      "metadata": {
        "id": "_4nmN8gdDyvc"
      },
      "source": [
        "# 연습문제 2.2.2\n",
        "# 벡터 x의 평균 제거 벡터는 다음과 같이 계산함을 증명하라\n",
        "\n",
        "모르겠어 뿌애애애앵"
      ],
      "execution_count": null,
      "outputs": []
    },
    {
      "cell_type": "markdown",
      "metadata": {
        "id": "n8c_goPAGRE_"
      },
      "source": [
        "#### 유사도 (similarity)"
      ]
    },
    {
      "cell_type": "code",
      "metadata": {
        "id": "TZ6J02FnGZkT"
      },
      "source": [
        "from sklearn.datasets import load_digits\n",
        "import matplotlib.gridspec as gridspec\n",
        "\n",
        "digits = load_digits()\n",
        "\n",
        "d1 = digits.images[0]\n",
        "v1 =  d1.reshape(64,1) # d1이라는 2차원 이미지를 64-크기의 1차원 벡터로 펼쳐라\n",
        "plt.figure(figsize=(9, 9))"
      ],
      "execution_count": null,
      "outputs": []
    },
    {
      "cell_type": "code",
      "metadata": {
        "id": "rhUojQScIDES"
      },
      "source": [
        "from sklearn.datasets import load_digits\n",
        "import matplotlib.gridspec as gridspec\n",
        "\n",
        "digits = load_digits()\n",
        "d1 = digits.images[0]\n",
        "d2 = digits.images[10]\n",
        "d3 = digits.images[1]\n",
        "d4 = digits.images[11]\n",
        "v1 = d1.reshape(64, 1)\n",
        "v2 = d2.reshape(64, 1)\n",
        "v3 = d3.reshape(64, 1)\n",
        "v4 = d4.reshape(64, 1)\n",
        "\n",
        "plt.figure(figsize=(9, 9))\n",
        "gs = gridspec.GridSpec(1, 8, height_ratios=[1],\n",
        "                       width_ratios=[9, 1, 9, 1, 9, 1, 9, 1])\n",
        "for i in range(4):\n",
        "    plt.subplot(gs[2 * i])\n",
        "    plt.imshow(eval(\"d\" + str(i + 1)), aspect=1,\n",
        "               interpolation='nearest', cmap=plt.cm.bone_r)\n",
        "    plt.grid(False)\n",
        "    plt.xticks([])\n",
        "    plt.yticks([])\n",
        "    plt.title(\"image {}\".format(i + 1))\n",
        "    plt.subplot(gs[2 * i + 1])\n",
        "    plt.imshow(eval(\"v\" + str(i + 1)), aspect=0.25,\n",
        "               interpolation='nearest', cmap=plt.cm.bone_r)\n",
        "    plt.grid(False)\n",
        "    plt.xticks([])\n",
        "    plt.yticks([])\n",
        "    plt.title(\"vector {}\".format(i + 1))\n",
        "plt.tight_layout()\n",
        "plt.show()"
      ],
      "execution_count": null,
      "outputs": []
    },
    {
      "cell_type": "markdown",
      "metadata": {
        "id": "LB5_NILJe4xM"
      },
      "source": [
        "## 선형회귀 모형"
      ]
    },
    {
      "cell_type": "markdown",
      "metadata": {
        "id": "ZmxYkMpSgLou"
      },
      "source": [
        "## 제곱합"
      ]
    },
    {
      "cell_type": "code",
      "metadata": {
        "id": "xpt2Kp32gNFs"
      },
      "source": [
        "# 연습문제 2.2.4\n",
        "\n",
        "# (3)\n",
        "A = np.array([1,2,3])\n",
        "B = np.array([[4,7],[5,8],[6,9]])\n",
        "\n",
        "# (4)\n",
        "# A = np.array([[1,3],[2,4]])\n",
        "# B = np.array([[5,7],[6,8]])\n",
        "# A\n",
        "\n",
        "A = np.array([[1,2],[3,4]])\n",
        "B = np.array([[5,6],[7,8]])\n",
        "A @ B"
      ],
      "execution_count": null,
      "outputs": []
    },
    {
      "cell_type": "code",
      "metadata": {
        "id": "VV-xgFQQiQxx"
      },
      "source": [
        "# 연습문제 2.2.5\n",
        "\n",
        "# (1)\n",
        "\n",
        "# (2)\n",
        "\n",
        "# (3)\n",
        "\n",
        "# (4)\n",
        "from sklearn.datasets import load_iris\n",
        "X = load_iris().data\n"
      ],
      "execution_count": null,
      "outputs": []
    },
    {
      "cell_type": "code",
      "metadata": {
        "id": "prwW5xjhlGwj"
      },
      "source": [
        "# 연습문제 2.2.6\n",
        "\n",
        "# 연습문제 2.2.7\n",
        "\n",
        "# 연습문제 2.2.8\n",
        "\n",
        "# 연습문제 2.2.9\n",
        "\n",
        "# 연습문제 2.2.11\n",
        "\n",
        "# 이차형식!!!!!!!!!!\n",
        "x = np.array([1, 2, 3])\n",
        "A = np.arange(1, 10).reshape(3, 3)\n",
        "x.T @ A\n",
        "x.T @ A @ x\n"
      ],
      "execution_count": null,
      "outputs": []
    },
    {
      "cell_type": "markdown",
      "metadata": {
        "id": "VF1sVgI2N6NJ"
      },
      "source": [
        "---\n",
        "\n",
        "# 고급 선형대수"
      ]
    },
    {
      "cell_type": "markdown",
      "metadata": {
        "id": "LTRA2xYTN_ZP"
      },
      "source": [
        "## 선형대수와 해석기하의 기초 "
      ]
    },
    {
      "cell_type": "markdown",
      "metadata": {
        "id": "p2xEq40pOODR"
      },
      "source": [
        "### 벡터의 기하학적 의미\n",
        "\n",
        "우리가 벡터라고 할 때 처음 배우는 '화살표' 개념 \n",
        "사실은 해석기하에서 바라본 벡터\n",
        "\n",
        "np.array([a1, a2]) 라고 한다면 \n",
        "\n",
        "1. x좌표가 a1\n",
        "y좌표가 a2\n",
        "\n",
        "벡터를 화살표로 생각할 때 \n",
        "\n",
        "2. 평행이동이 가능하다 (길이와 방향 고정)\n",
        "\n"
      ]
    },
    {
      "cell_type": "markdown",
      "metadata": {
        "id": "1D2JSfitPBvK"
      },
      "source": [
        "### 벡터의 길이 \n",
        "\n",
        "norm 으로 정의한다. \n",
        "\n",
        "\n",
        "벡터 𝑎의 길이는 놈(norm) ‖𝑎‖으로 정의한다.\n",
        "\n",
        "‖𝑎‖=𝑎𝑇𝑎‾‾‾‾√=𝑎21+⋯+𝑎2𝑁‾‾‾‾‾‾‾‾‾‾‾‾√(3.1.2)\n",
        "\n",
        "넘파이 linalg 서브 패키지의 norm() 명령으로 벡터의 길이를 계산할 수 있다. \n",
        "\n",
        "위에서 예로 든 2차원 벡터 𝑎=[𝑎1𝑎2]𝑇의 길이는 5‾√≈2.236이다.\n"
      ]
    },
    {
      "cell_type": "markdown",
      "metadata": {
        "id": "wH4FdeZ8PlZR"
      },
      "source": [
        "* norm\n",
        "\n",
        "1. taxi\n",
        "2. unclidean\n",
        "3. infinity\n",
        "\n",
        "https://bskyvision.com/825\n"
      ]
    },
    {
      "cell_type": "code",
      "metadata": {
        "id": "P7ewG-G5P4hX"
      },
      "source": [
        "a = np.array([1,2])\n",
        "np.linalg.norm(a)"
      ],
      "execution_count": null,
      "outputs": []
    },
    {
      "cell_type": "markdown",
      "metadata": {
        "id": "MN1dIwYwPbLw"
      },
      "source": [
        "### 스칼라와 벡터의 곱\n",
        "\n",
        "방향은 바뀌지 않아 길.이.가 커져"
      ]
    },
    {
      "cell_type": "markdown",
      "metadata": {
        "id": "qiDrSSeBQHFx"
      },
      "source": [
        "### 단위벡터 \n",
        "\n",
        "* 1/√2 를 잊지마!!!!"
      ]
    },
    {
      "cell_type": "code",
      "metadata": {
        "id": "ZIEBd4A2QIoD"
      },
      "source": [
        "# 단위벡터를 나타내는 다양한 넘파이\n",
        "\n",
        "a = np.array([1,0])\n",
        "b = np.array([0,1])\n",
        "c = np.array([1/np.sqrt(2), 1/np.sqrt(2)])\n",
        "np.linalg.norm(a), np.linalg.norm(b), np.linalg.norm(c) # norm은 벡터의 크기 \n",
        "\n",
        "# c를 보면 알 수 있겠지만 딱 떨어지는 1이 아니더라도 \n",
        "# 0.9999999999999 를 1로 치는 거야"
      ],
      "execution_count": null,
      "outputs": []
    },
    {
      "cell_type": "markdown",
      "metadata": {
        "id": "W7zLVP28RT7a"
      },
      "source": [
        "### 벡터의 합\n",
        "\n",
        "평행사변형을 생각하던 그냥 쭉 이어지는 일직선을 생각하던 \n",
        "[1,2] + [2,1] = [3,3] "
      ]
    },
    {
      "cell_type": "markdown",
      "metadata": {
        "id": "Yr-qL-ZxR8xq"
      },
      "source": [
        "### 벡터의 선형조합(linear combination)\n",
        "\n",
        "이거 기억나냐\n",
        "위에서 줄기차게 했었다\n",
        "\n",
        "한 벡터의 원소들 마다 스칼라곱을 한 것들 모두 더한거\n",
        "그것이 선형조합\n",
        "\n",
        "𝑐1𝑥1+𝑐2𝑥2+⋯+𝑐𝑁𝑥𝑁\n",
        "\n",
        "여기서 c는 스칼라계수 (기호, 외워라)"
      ]
    },
    {
      "cell_type": "code",
      "metadata": {
        "id": "jc1XgVo4SWsh"
      },
      "source": [
        "# 연습문제 3.1.1\n",
        "\n",
        "x1 = np.array([[1],[2]])\n",
        "x2 = np.array([[2],[1]])\n",
        "c1 = 1\n",
        "c2 = 2\n",
        "\n",
        "x3 = np.array([[1,2],[2,1]])\n",
        "x3inv = np.linalg.inv(x3)\n",
        "c = np.array([[c1],[c2]])\n",
        "\n",
        "y = x3inv @ c\n",
        "y"
      ],
      "execution_count": null,
      "outputs": []
    },
    {
      "cell_type": "markdown",
      "metadata": {
        "id": "_ZnFosqhqVDV"
      },
      "source": [
        "선형 예측모형에서 좌변을 예측값, 우변을 목푯값이라고 생각한다"
      ]
    },
    {
      "cell_type": "code",
      "metadata": {
        "id": "_6RipyW_S4hI"
      },
      "source": [
        "from sklearn.datasets import load_boston\n",
        "boston = load_boston()\n",
        "X = boston.data\n",
        "y = boston.target\n",
        "A = X[:4, [0, 4, 5, 6]]  # 'CRIM', 'NOX', 'RM', 'AGE'\n",
        "b = y[:4]  # MEDV : 본인 소유의 주택가격(중앙값) (단위:$1,000)\n",
        "np.linalg.lstsq(A,b)\n"
      ],
      "execution_count": null,
      "outputs": []
    },
    {
      "cell_type": "markdown",
      "metadata": {
        "id": "TfAg9G2XqVwn"
      },
      "source": [
        "* 벡터의 차\n",
        "* Word2Vec\n",
        "* 유클리드 거리\n",
        "* 벡터의 내적과 삼각함수\n",
        "\n",
        "이 4개는 아마 다시 볼 듯..ㅋ "
      ]
    },
    {
      "cell_type": "markdown",
      "metadata": {
        "id": "9N02khQq8Ldw"
      },
      "source": [
        "### 직교"
      ]
    },
    {
      "cell_type": "markdown",
      "metadata": {
        "id": "LOygQ1P-L6SQ"
      },
      "source": [
        "[직교 설명 잘 해놓은 곳](https://twlab.tistory.com/entry/Linear-Algebra-Lecture-17-%EC%A7%81%EA%B5%90%ED%96%89%EB%A0%ACOrthogonal-Matrices%EA%B3%BC-%EA%B7%B8%EB%9E%8C-%EC%8A%88%EB%AF%B8%ED%8A%B8-%EA%B3%BC%EC%A0%95GramSchmidt-Process)"
      ]
    },
    {
      "cell_type": "code",
      "metadata": {
        "id": "DOkBoWFP8bjM"
      },
      "source": [
        "# 연습문제 3.1.3\n",
        "\n",
        "#(1)\n",
        "x = np.array([1,0]) # x가 1과 0의 벡터일 때\n",
        "orthogonal_x = np.array([0, 1])  # x의 직교는 아마 이걸거야. 그래프를 떠올리자\n",
        "x @ orthogonal_x   # 둘이 정말 직교하는지 궁금하다면 두 벡터의 내적은 0이 될거야\n",
        "\n",
        "#(2)\n",
        "\n",
        "# 자동으로 0~10 까지의 수를 i와 j에 각각 다르게 대입해서 직교가 되는 벡터를 찾고 싶어\n",
        "\n",
        "x = np.array([1,1])\n",
        "i = np.random.randint(2, size=10)\n",
        "j = np.random.randint(2, size=10)\n",
        "y = np.array([i,j])\n",
        "orthogonal_x = x.T @ y\n",
        "orthogonal_x\n",
        "y\n",
        "\n",
        "# for i, j in zip(range(10), range(10)):\n",
        "#   if orthogonal_x.any() == 0: break\n",
        "#   print(orthogonal_x)\n",
        "\n",
        "\n",
        "orthogonal_x -= x.dot(k) * k       # make it orthogonal to k\n"
      ],
      "execution_count": null,
      "outputs": []
    },
    {
      "cell_type": "code",
      "metadata": {
        "id": "Sbv78jPF8894"
      },
      "source": [
        "%tensorflow_version 1.x\n",
        "\n",
        "import tensorflow as tf\n",
        "print(tf.__version__)"
      ],
      "execution_count": null,
      "outputs": []
    },
    {
      "cell_type": "markdown",
      "metadata": {
        "id": "08jRcG1AXPxi"
      },
      "source": [
        "# 2.4 선형 연립방정식과 역행렬"
      ]
    },
    {
      "cell_type": "markdown",
      "metadata": {
        "id": "DoXFaEuzXVDB"
      },
      "source": [
        "## 선형 연립방정식"
      ]
    },
    {
      "cell_type": "code",
      "metadata": {
        "id": "HiipaogGXYcK"
      },
      "source": [
        ""
      ],
      "execution_count": null,
      "outputs": []
    },
    {
      "cell_type": "markdown",
      "metadata": {
        "id": "1ka65mQ-brU5"
      },
      "source": [
        "## 넘파이를 사용한 역행렬 계산"
      ]
    },
    {
      "cell_type": "code",
      "metadata": {
        "id": "Pi2Xqp13buOG"
      },
      "source": [
        "import numpy as np\n",
        "\n",
        "A = np.array([[1,1,0],[0,1,1],[1,1,1]])\n",
        "Ainv = np.linalg.inv(A)\n",
        "Ainv"
      ],
      "execution_count": null,
      "outputs": []
    },
    {
      "cell_type": "code",
      "metadata": {
        "id": "4s7qT4-Ub2BC"
      },
      "source": [
        "b = np.array([[2],[2], [3]])\n",
        "x = Ainv @ b\n",
        "A @ x - b  # 0이 나왔으니 b와 일치하는군"
      ],
      "execution_count": null,
      "outputs": []
    },
    {
      "cell_type": "code",
      "metadata": {
        "id": "Hv6Y7hh5eEd0"
      },
      "source": [
        "x, resid, rank, s = np.linalg.lstsq(A, b)\n",
        "x"
      ],
      "execution_count": null,
      "outputs": []
    },
    {
      "cell_type": "code",
      "metadata": {
        "id": "JixqMEW3e53B"
      },
      "source": [
        "A = np.array([[1,1,0],    # x1 + x2       = 2\n",
        "              [0,1,1],    #      x2 + x3  = 2\n",
        "              [1,1,1],    # X1 + x2 + x3  = 3\n",
        "              [1,1,2]])   # x1 + x2 + 2x3 = 4(예측값) ~ 4.1(목푯값)  -> 스칼라로 보면  4 - 4.1이 residual, 즉 e가 0.1 \n",
        " # 하지만 이거는 행렬이기 때문에 일반 mse를 쓰지 않는다. 전체 벡터로 저 값이 분산되어야 해. 그래서 norm sqaure를 써준다.\n",
        " # 이해 안 가는 부분 Q1. 왜 ATA가 항상 정방행렬이지? 아하 행과 열을 바꿔서 곱해주면 그 나오는 값"
      ],
      "execution_count": null,
      "outputs": []
    },
    {
      "cell_type": "code",
      "metadata": {
        "id": "BwUBS74VpZWS"
      },
      "source": [
        "b = np.array([[2],[2],[3],[4.1]])  # 이게 목표값, 우리는 지금 행렬로 계산하는 거니까 x에 들어갈 값을 빼고 각 두 변수에 행렬을 만들어주자.\n",
        "b"
      ],
      "execution_count": null,
      "outputs": []
    },
    {
      "cell_type": "code",
      "metadata": {
        "id": "MjFvLN0LrZ-8"
      },
      "source": [
        "Apinv = np.linalg.inv(A.T @ A) @ A.T\n",
        "Apinv"
      ],
      "execution_count": null,
      "outputs": []
    },
    {
      "cell_type": "code",
      "metadata": {
        "id": "No_njmSOryVO"
      },
      "source": [
        "Apinv @ b  # 이게 x 값이겠지"
      ],
      "execution_count": null,
      "outputs": []
    },
    {
      "cell_type": "code",
      "metadata": {
        "id": "PoioqU1VsH_U"
      },
      "source": [
        ""
      ],
      "execution_count": null,
      "outputs": []
    },
    {
      "cell_type": "code",
      "metadata": {
        "id": "PtTAfXfntdux"
      },
      "source": [
        "Q = np.array([[1,2],[3,4],[5,6]]) #기본적으로 열벡터로 생성됨\n",
        "\n",
        "Q @ Q.T # 왜 내적이 가능? 벡터의 내적이란 > 스칼라가 됩니다! > '선형대수의 기초' 에 나온 철수의 1학기 성적을 떠올리자. \n",
        "        # 철수의 1학기 수학성적 그 다음 줄은 영어성적, 각 성적에 대한 값이 벡터, 그렇게 쌓인 철수의 총 성적이 행렬\n",
        "        # 두 행렬의 곱(행벡터와 열벡터의 내적)\n",
        "\n",
        "Q.T @ Q   \n",
        "Q.shape\n",
        "# Q * Q.T # can't be broadcast cuz of shapes (3,2) (2,3)"
      ],
      "execution_count": null,
      "outputs": []
    },
    {
      "cell_type": "code",
      "metadata": {
        "id": "VDRiKLWjBFwn"
      },
      "source": [
        "M = np.matrix([[1,2],[3,4],[5,6]])\n",
        "M.shape"
      ],
      "execution_count": null,
      "outputs": []
    },
    {
      "cell_type": "code",
      "metadata": {
        "id": "_0oAG86eDH4g"
      },
      "source": [
        ".."
      ],
      "execution_count": null,
      "outputs": []
    }
  ]
}